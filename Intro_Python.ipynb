{
  "nbformat": 4,
  "nbformat_minor": 0,
  "metadata": {
    "colab": {
      "provenance": [],
      "include_colab_link": true
    },
    "kernelspec": {
      "name": "python3",
      "display_name": "Python 3"
    },
    "language_info": {
      "name": "python"
    },
    "gpuClass": "standard"
  },
  "cells": [
    {
      "cell_type": "markdown",
      "metadata": {
        "id": "view-in-github",
        "colab_type": "text"
      },
      "source": [
        "<a href=\"https://colab.research.google.com/github/meldokter/PLN-for-Social-Sciences/blob/labs/Intro_Python.ipynb\" target=\"_parent\"><img src=\"https://colab.research.google.com/assets/colab-badge.svg\" alt=\"Open In Colab\"/></a>"
      ]
    },
    {
      "cell_type": "markdown",
      "source": [
        "# **Cabeçalho**\n",
        "\n",
        "Aluno 1  - Anna Thiemy Takata - 12507838 - Graduação - Vespertino\n",
        "\n",
        "Aluno 2 - Mel Dokter Palomo - 12507543 - Graduação - Vespertino"
      ],
      "metadata": {
        "id": "UJqySuenk2E5"
      }
    },
    {
      "cell_type": "markdown",
      "source": [
        "# Introdução ao básico de Python"
      ],
      "metadata": {
        "id": "_ns7mAL7Sqmm"
      }
    },
    {
      "cell_type": "markdown",
      "source": [
        "Não é um requisito desta disciplina ter conhecimento prévio de linguagens de programação (R, Python, etc.). No entanto, iremos introduzir gradualmente ao aluno o Python, que será a base para os códigos deste curso. Nas próximas aulas, veremos o que é o Python, por que utilizamos ele (e não o R, por exemplo),e suas vantagens e desvantagens. Ao longo do curso, optamos também por utilizar a IDE (Ambiente de desenvolvimento integrado) disponibilizada pelo google, Google Colab, e que nos permite ensinar a linguagem sem necessitar de instalações extras, facilitando todo o processo. Se os alunos demonstrarem interesse, podemos disponibilizar tutoriais de como instalar o Python em seus computadores pessoais e as principais IDEs."
      ],
      "metadata": {
        "id": "WbPvhjqETV7N"
      }
    },
    {
      "cell_type": "markdown",
      "source": [
        "### 1. Familiarização com o Google Colab\n",
        "\n",
        "Antes mesmo de começarmos a programar, um exercício importante para qualquer linguagem e IDE é o de explorar a ferramenta. Clique nas abas e botões e descubra quais opções são disponibilizadas pela IDE"
      ],
      "metadata": {
        "id": "D0rD_ajPUnll"
      }
    },
    {
      "cell_type": "markdown",
      "source": [
        "### 2. Comentários e Texto Markdown\n",
        "\n",
        "Em python, você pode escrever texto que não é código de duas maneiras: com comentários em células de código e com células markdown. Tente rodar a célula de código abaixo, o que acontece?"
      ],
      "metadata": {
        "id": "nJwW6AgbZqAT"
      }
    },
    {
      "cell_type": "code",
      "execution_count": null,
      "metadata": {
        "id": "7UEHKdA_RvEK",
        "colab": {
          "base_uri": "https://localhost:8080/"
        },
        "outputId": "be5de87b-6b21-4c4f-a1a2-ade320f9aa16"
      },
      "outputs": [
        {
          "output_type": "stream",
          "name": "stdout",
          "text": [
            "hello world\n"
          ]
        }
      ],
      "source": [
        " #print('hello world')"
      ]
    },
    {
      "cell_type": "markdown",
      "source": [
        "Sempre que quiser escrever alguma coisa que não necessariamente deseja rodar ou que não é código, utilize comentários. Uma utilidade adicional muito importante dos comentários é a descrição do que a linha de código está fazendo, ou um sumário de uma célula de código inteira. ***Um bom uso dos comentários e de texto markdown facilita tanto a vida do futuro você quanto de outras pessoas que lerão o seu código. Utilize sempre que possível!***"
      ],
      "metadata": {
        "id": "yCFp0rgYaEth"
      }
    },
    {
      "cell_type": "markdown",
      "source": [
        "Para comentar/descomentar múltiplas linhas de código de uma vez, você pode utilizar \"Ctrl\" + \"/\" no Colab. Tente descomentar as linhas de códigos a seguir"
      ],
      "metadata": {
        "id": "TMlRRbDBbLCd"
      }
    },
    {
      "cell_type": "code",
      "source": [
        "# Isso aqui é código\n",
        "# a\n",
        "# b\n",
        "# c\n",
        "# d\n",
        "# e\n",
        "# f\n",
        "# g\n",
        "# h\n"
      ],
      "metadata": {
        "id": "kjOLtH0pa2t7"
      },
      "execution_count": null,
      "outputs": []
    },
    {
      "cell_type": "markdown",
      "source": [
        "### 3. Comando \"Print\""
      ],
      "metadata": {
        "id": "pUEZLgotaphj"
      }
    },
    {
      "cell_type": "markdown",
      "source": [
        "O comando \"print\" é um dos mais básicos do Python, mas também um dos mais importantes e utilizados. O comando imprime qualquer coisa que desejar, desde texto simples (e.g. \"Olá Mundo\"), até variáveis, resultados de cálculos, etc. Leia mais sobre o comando na [documentação](https://docs.python.org/pt-br/3/library/functions.html?highlight=print#print) do Python. Nas próximas subseções, exploraremos alguma das possibilidades do comando."
      ],
      "metadata": {
        "id": "0V2YRrnqbhkR"
      }
    },
    {
      "cell_type": "code",
      "source": [
        "# Imprimindo (Printing) uma string\n",
        "\n",
        "print('Olá, mundo!')"
      ],
      "metadata": {
        "id": "1GUwIe2ycp79"
      },
      "execution_count": null,
      "outputs": []
    },
    {
      "cell_type": "markdown",
      "source": [
        "Esse é o exemplo mais clássico da função deste comando. Uma string nada mais é do que uma sequência de texto, que está encapsulada em aspas (tanto aspas simples quanto dupla). O python identificará automaticamente que quaisquer caracteres entre aspas é uma string."
      ],
      "metadata": {
        "id": "YY7-olq6b4IN"
      }
    },
    {
      "cell_type": "code",
      "source": [
        "print('Texto em aspas simples')"
      ],
      "metadata": {
        "id": "CJXhyjA8dKdA"
      },
      "execution_count": null,
      "outputs": []
    },
    {
      "cell_type": "code",
      "source": [
        "print('Texto em aspas duplas')"
      ],
      "metadata": {
        "id": "_xp7nxY4dM7o"
      },
      "execution_count": null,
      "outputs": []
    },
    {
      "cell_type": "markdown",
      "source": [
        "Se quiser imprimir aspas dentro de uma string, você pode fazer de duas maneiras:"
      ],
      "metadata": {
        "id": "MvUB8R8MdcQr"
      }
    },
    {
      "cell_type": "code",
      "source": [
        "# a. Aspas duplas no total da string e aspas simples dentro da string\n",
        "\n",
        "print(\"Aqui está uma 'aspa' dentro da string\")\n",
        "\n",
        "# b. Aspas duplas com duas barras\n",
        "\n",
        "print(\"Texto com duas \\\"Aspas\\\" duplas\")"
      ],
      "metadata": {
        "id": "W_CQpBDBdgo5"
      },
      "execution_count": null,
      "outputs": []
    },
    {
      "cell_type": "markdown",
      "source": [
        "Você pode imprimir números diretamente:"
      ],
      "metadata": {
        "id": "KNV2mIOueINh"
      }
    },
    {
      "cell_type": "code",
      "source": [
        "print(123456)"
      ],
      "metadata": {
        "id": "25-gkvTbeIB_"
      },
      "execution_count": null,
      "outputs": []
    },
    {
      "cell_type": "markdown",
      "source": [
        "Pode imprimir os valores de uma variável:"
      ],
      "metadata": {
        "id": "sGf7_DLAeLnx"
      }
    },
    {
      "cell_type": "code",
      "source": [
        "x = 5\n",
        "\n",
        "print(x)"
      ],
      "metadata": {
        "id": "eibL7oG8eOip"
      },
      "execution_count": null,
      "outputs": []
    },
    {
      "cell_type": "markdown",
      "source": [
        "Para quebrar linhas dentro de um print, você pode utilizar o \"\\n\""
      ],
      "metadata": {
        "id": "sEMBH-M9eSuu"
      }
    },
    {
      "cell_type": "code",
      "source": [
        "print(\"Quero meu texto \\n dividido\")"
      ],
      "metadata": {
        "id": "KdaLCXUpeWoB",
        "colab": {
          "base_uri": "https://localhost:8080/"
        },
        "outputId": "b6e8b681-f643-4a6b-b1da-80b05ae07ad8"
      },
      "execution_count": null,
      "outputs": [
        {
          "output_type": "stream",
          "name": "stdout",
          "text": [
            "Quero meu texto \n",
            " dividido\n"
          ]
        }
      ]
    },
    {
      "cell_type": "markdown",
      "source": [
        "O print ainda tem algumas funções extras que podem vir a calhar"
      ],
      "metadata": {
        "id": "J6LZa7wjej4f"
      }
    },
    {
      "cell_type": "markdown",
      "source": [
        "*SEP*"
      ],
      "metadata": {
        "id": "lil2JYKgfHJx"
      }
    },
    {
      "cell_type": "code",
      "source": [
        "# \"sep\" permite separar diversas strings com algum padrão\n",
        "\n",
        "print(\"Olá\", \"Mundo\", \"Isso\", \"Aqui\", \"É\", \"Doido\", sep = \"...\")"
      ],
      "metadata": {
        "id": "lqTB_8tHejnU"
      },
      "execution_count": null,
      "outputs": []
    },
    {
      "cell_type": "markdown",
      "source": [
        "Observe que a vírgula separando cada uma das string faz com que tenhamos 6 strings ao invés de uma única. A opção \"end\" permite que você defina o que irá separar dois prints seguidos. O padrão é uma quebra de linha"
      ],
      "metadata": {
        "id": "O44LeDBie9KE"
      }
    },
    {
      "cell_type": "markdown",
      "source": [
        "*END*"
      ],
      "metadata": {
        "id": "hyvHSCQvfP71"
      }
    },
    {
      "cell_type": "code",
      "source": [
        "print(\"Olá\", end = ',')\n",
        "print(' Mundo!')"
      ],
      "metadata": {
        "id": "FXvM5Y9GfRan"
      },
      "execution_count": null,
      "outputs": []
    },
    {
      "cell_type": "code",
      "source": [
        "print(\"Olá,\")\n",
        "print(\"Mundo\")"
      ],
      "metadata": {
        "id": "yc6CI7DkleBr"
      },
      "execution_count": null,
      "outputs": []
    },
    {
      "cell_type": "markdown",
      "source": [
        "#### Exercícios"
      ],
      "metadata": {
        "id": "Oo2LenLWTmdR"
      }
    },
    {
      "cell_type": "markdown",
      "source": [
        "1 - Vamos começar com algo básico: escreva uma célula de código que imprima \"Olá, [seu nome]\""
      ],
      "metadata": {
        "id": "F-aFHqoOTphf"
      }
    },
    {
      "cell_type": "code",
      "source": [
        "# Seu código vai aqui\n",
        "print(\"Olá, Mel\")"
      ],
      "metadata": {
        "id": "W-g21pWOVByw",
        "colab": {
          "base_uri": "https://localhost:8080/"
        },
        "outputId": "ae29307e-d3d2-4985-f3b1-8f4b91009372"
      },
      "execution_count": null,
      "outputs": [
        {
          "output_type": "stream",
          "name": "stdout",
          "text": [
            "Olá, Mel\n"
          ]
        }
      ]
    },
    {
      "cell_type": "markdown",
      "source": [
        "2 - Imprima a seguinte soma:"
      ],
      "metadata": {
        "id": "LsRmXblaVDBt"
      }
    },
    {
      "cell_type": "code",
      "source": [
        "soma = 7+9\n",
        "print(7+9)"
      ],
      "metadata": {
        "id": "VQG5vZ0JVKDp",
        "colab": {
          "base_uri": "https://localhost:8080/"
        },
        "outputId": "f24f4157-e0a6-4ca5-aee0-47f2e6ba0f12"
      },
      "execution_count": null,
      "outputs": [
        {
          "output_type": "stream",
          "name": "stdout",
          "text": [
            "16\n"
          ]
        }
      ]
    },
    {
      "cell_type": "markdown",
      "source": [
        "3 - Imprima os números de 1 a 10, cada um em uma linha diferente"
      ],
      "metadata": {
        "id": "79n7s-qbVO84"
      }
    },
    {
      "cell_type": "code",
      "source": [
        "# Seu código vai aqui\n",
        "print(1)\n",
        "print(2)\n",
        "print(3)\n",
        "print(4)\n",
        "print(5)\n",
        "print(6)\n",
        "print(7)\n",
        "print(8)\n",
        "print(9)\n",
        "print(10)"
      ],
      "metadata": {
        "id": "ILwwCaJCVa5d",
        "colab": {
          "base_uri": "https://localhost:8080/"
        },
        "outputId": "5e0cf60b-6cbb-4de4-cefb-54832897f75c"
      },
      "execution_count": null,
      "outputs": [
        {
          "output_type": "stream",
          "name": "stdout",
          "text": [
            "1\n",
            "2\n",
            "3\n",
            "4\n",
            "5\n",
            "6\n",
            "7\n",
            "8\n",
            "9\n",
            "10\n"
          ]
        }
      ]
    },
    {
      "cell_type": "markdown",
      "source": [
        "4 - Qual o problema com o seguinte código?"
      ],
      "metadata": {
        "id": "lVpBFZIqVcNg"
      }
    },
    {
      "cell_type": "code",
      "source": [
        "print(\"A comida do restaurante estava 'deliciosa' hoje.\")"
      ],
      "metadata": {
        "id": "UPMfYZFVVlKF"
      },
      "execution_count": null,
      "outputs": []
    },
    {
      "cell_type": "markdown",
      "source": [
        "### 4. Comando \"Input\""
      ],
      "metadata": {
        "id": "o_7lSxpaXsyD"
      }
    },
    {
      "cell_type": "markdown",
      "source": [
        "O comando \"input\" em Python é usado para solicitar dados de entrada do usuário durante a execução do programa. Ele permite que o programa interaja com o usuário, recebendo valores digitados pelo teclado e armazenando-os em variáveis para posterior uso. A sintaxe básica do comando \"input\" é a seguinte:"
      ],
      "metadata": {
        "id": "rStCwZmVXur1"
      }
    },
    {
      "cell_type": "code",
      "source": [
        "nome_da_variavel = input(\"Mensagem para o usuário: \")"
      ],
      "metadata": {
        "id": "Sh8M2J64X0tC"
      },
      "execution_count": null,
      "outputs": []
    },
    {
      "cell_type": "markdown",
      "source": [
        "A função \"input\" recebe uma mensagem opcional (entre as aspas) que será exibida ao usuário para solicitar a entrada de dados. O valor digitado pelo usuário é armazenado na variável \"nome_da_variavel\". Aqui está um exemplo simples para solicitar o nome do usuário e exibi-lo na tela:"
      ],
      "metadata": {
        "id": "5-AmhwIGX2sL"
      }
    },
    {
      "cell_type": "code",
      "source": [
        "# Solicitando o nome do usuário\n",
        "nome = input(\"Digite o seu nome: \")\n",
        "\n",
        "# Exibindo o nome na tela\n",
        "print(\"Olá, \" + nome + \"! Bem-vindo ao nosso programa.\")"
      ],
      "metadata": {
        "id": "hR1wsZ-kX8my"
      },
      "execution_count": null,
      "outputs": []
    },
    {
      "cell_type": "markdown",
      "source": [
        "Neste exemplo, a mensagem \"Digite o seu nome:\" é exibida ao usuário, e o valor digitado por ele é armazenado na variável \"nome\". Em seguida, o programa utiliza o comando \"print\" para exibir uma mensagem de boas-vindas contendo o nome informado.\n",
        "\n",
        "Lembre-se que o valor digitado pelo usuário é sempre tratado como uma string (texto). Caso deseje utilizar o valor como outro tipo de dado, é necessário realizar a conversão adequada, como por exemplo, usando as funções \"int()\" ou \"float()\" para números inteiros ou de ponto flutuante, respectivamente."
      ],
      "metadata": {
        "id": "OK8nE84eX4pt"
      }
    },
    {
      "cell_type": "markdown",
      "source": [
        "Exemplo 1: Conversão para número inteiro (int)"
      ],
      "metadata": {
        "id": "tTr92q0xYLPD"
      }
    },
    {
      "cell_type": "code",
      "source": [
        "# Solicitando a idade do usuário\n",
        "idade_str = input(\"Digite a sua idade: \")\n",
        "\n",
        "# Convertendo a idade para número inteiro\n",
        "idade_int = int(idade_str)\n",
        "\n",
        "# Realizando operações com o valor convertido\n",
        "idade_ano_que_vem = idade_int + 1\n",
        "\n",
        "# Exibindo o resultado\n",
        "print(\"No próximo ano, você terá\", idade_ano_que_vem, \"anos.\")"
      ],
      "metadata": {
        "id": "capX6sLvYLxE"
      },
      "execution_count": null,
      "outputs": []
    },
    {
      "cell_type": "markdown",
      "source": [
        "Neste exemplo, o programa solicita a idade do usuário usando o comando \"input\" e armazena o valor digitado na variável \"idade_str\", que é tratada como uma string. Em seguida, usamos a função \"int()\" para converter essa string em um número inteiro e armazenamos o resultado na variável \"idade_int\". Dessa forma, podemos realizar operações matemáticas com esse valor e exibir o resultado na tela."
      ],
      "metadata": {
        "id": "yALpPuHAYQGe"
      }
    },
    {
      "cell_type": "markdown",
      "source": [
        "Exemplo 2: Conversão para número de ponto flutuante (float)"
      ],
      "metadata": {
        "id": "B8icp1h0YS8U"
      }
    },
    {
      "cell_type": "code",
      "source": [
        "# Solicitando o peso do usuário\n",
        "peso_str = input(\"Digite o seu peso (em kg): \")\n",
        "\n",
        "# Convertendo o peso para número de ponto flutuante\n",
        "peso_float = float(peso_str)\n",
        "\n",
        "# Calculando o peso na Lua (16.5% do peso na Terra)\n",
        "peso_lua = peso_float * 0.165\n",
        "\n",
        "# Exibindo o resultado\n",
        "print(\"Seu peso na Lua seria de\", peso_lua, \"kg.\")"
      ],
      "metadata": {
        "id": "_UD_ruZLYWiZ"
      },
      "execution_count": null,
      "outputs": []
    },
    {
      "cell_type": "markdown",
      "source": [
        "Neste exemplo, o programa solicita o peso do usuário usando o comando \"input\" e armazena o valor digitado na variável \"peso_str\", que é tratada como uma string. Em seguida, usamos a função \"float()\" para converter essa string em um número de ponto flutuante (número decimal) e armazenamos o resultado na variável \"peso_float\". Assim, podemos realizar cálculos matemáticos envolvendo esse valor e exibir o resultado na tela.\n",
        "\n",
        "Lembre-se que, ao realizar a conversão de tipos, é importante garantir que o valor digitado pelo usuário seja compatível com o tipo que você deseja converter. Caso contrário, o programa pode gerar um erro durante a execução. É sempre uma boa prática adicionar tratamentos de exceções para lidar com essas situações, mas para fins de exemplo aqui, vamos considerar que o usuário insere valores válidos."
      ],
      "metadata": {
        "id": "lFRy7T5tYcqE"
      }
    },
    {
      "cell_type": "markdown",
      "source": [
        "*Nota*: É importante destacar que, em aplicações acadêmicas, o uso do \"input\" pode ser limitado ou pouco utilizado, especialmente em ambientes onde a interação direta com o usuário não é uma prioridade.Em muitas aplicações acadêmicas, o foco está na análise de dados, algoritmos complexos ou modelagem teórica, onde a entrada de dados é frequentemente feita através de arquivos ou parâmetros definidos previamente. Essa abordagem é preferível para evitar inconsistências ou erros de digitação que podem ocorrer quando o usuário insere dados manualmente."
      ],
      "metadata": {
        "id": "qLLCvN6BZGPy"
      }
    },
    {
      "cell_type": "markdown",
      "source": [
        "#### Exercícios"
      ],
      "metadata": {
        "id": "2pZwqmA5ZZ-N"
      }
    },
    {
      "cell_type": "markdown",
      "source": [
        "1 - Peça o nome do usuário e dê as boas vindas"
      ],
      "metadata": {
        "id": "yURGH6AyZbo0"
      }
    },
    {
      "cell_type": "code",
      "source": [
        "# Solicitando o nome do usuário\n",
        "nome = input(\"Digite o seu nome: \")\n",
        "\n",
        "# Exibindo o nome na tela\n",
        "print(\"Olá, \" + nome + \"! Bem-vindo ao nosso programa.\")"
      ],
      "metadata": {
        "id": "L-nNoQ8aZbXK",
        "colab": {
          "base_uri": "https://localhost:8080/"
        },
        "outputId": "b1852b97-1004-437c-c164-025c9fa0de26"
      },
      "execution_count": null,
      "outputs": [
        {
          "output_type": "stream",
          "name": "stdout",
          "text": [
            "Digite o seu nome: Mel\n",
            "Olá, Mel! Bem-vindo ao nosso programa.\n"
          ]
        }
      ]
    },
    {
      "cell_type": "markdown",
      "source": [
        "2 - Peça a idade do usuário e descubra o ano em que ele nasceu\n"
      ],
      "metadata": {
        "id": "7ckmO3z5Zu0x"
      }
    },
    {
      "cell_type": "code",
      "source": [
        "# Solicitando a idade do usuário\n",
        "idade = input(\"Digite sua idade: \")\n",
        "\n",
        "#Convertendo a idade para número inteiro\n",
        "idade_int = int(idade)\n",
        "\n",
        "#Descobrindo o ano em que nasceu\n",
        "anoatual = 2024\n",
        "anonascuxx = anoatual - idade_int\n",
        "\n",
        "#Exibindo a resposta\n",
        "print(anonascuxx)"
      ],
      "metadata": {
        "id": "WnaV1G8TZ2pS",
        "colab": {
          "base_uri": "https://localhost:8080/"
        },
        "outputId": "00c2df25-43b7-4a2f-d50e-c8107d2ee26a"
      },
      "execution_count": null,
      "outputs": [
        {
          "output_type": "stream",
          "name": "stdout",
          "text": [
            "Digite sua idade: 22\n",
            "2002\n"
          ]
        }
      ]
    },
    {
      "cell_type": "markdown",
      "source": [
        "3 - Faça um programa que peça a base e a altura de um triângulo e calcule a área (Area do tríangulo = b.h/2)"
      ],
      "metadata": {
        "id": "0N2hC6K1Z2Rn"
      }
    },
    {
      "cell_type": "code",
      "source": [
        "# Solicitando a altura do triângulo\n",
        "altura_str = input(\"Digite a altura do triângulo (em cm): \")\n",
        "\n",
        "# Convertendo a altura para número de ponto flutuante\n",
        "altura_float = float(altura_str)\n",
        "\n",
        "# Solicitando a base do triângulo\n",
        "base_str = input(\"Digite a base do triângulo (em cm): \")\n",
        "\n",
        "# Convertendo a base para número de ponto flutuante\n",
        "base_float = float(base_str)\n",
        "\n",
        "# Calculando a área do triângulo ((b*h)/2)\n",
        "area = (altura_float * base_float)/2\n",
        "\n",
        "# Exibindo o resultado\n",
        "print(\"A área do triângulo\", area, \"cm.\")"
      ],
      "metadata": {
        "id": "ZUAQLF9-aUxf",
        "colab": {
          "base_uri": "https://localhost:8080/"
        },
        "outputId": "8b73efda-9375-4ef3-9bb0-0616ae4f8119"
      },
      "execution_count": null,
      "outputs": [
        {
          "output_type": "stream",
          "name": "stdout",
          "text": [
            "Digite a altura do triângulo (em cm): 3\n",
            "Digite a base do triângulo (em cm): 4\n",
            "A área do triângulo 6.0 cm.\n"
          ]
        }
      ]
    },
    {
      "cell_type": "markdown",
      "source": [
        "4 - Peça o ano de nascimento do usuário e calcule sua idade"
      ],
      "metadata": {
        "id": "Srbz-GmSaWgU"
      }
    },
    {
      "cell_type": "code",
      "source": [
        "# Solicitando o ano de nascimento do usuário\n",
        "anonascusuario = input(\"Digite seu ano de nascimento: \")\n",
        "\n",
        "#Convertendo o ano para número inteiro\n",
        "ano_int = int(anonascusuario)\n",
        "\n",
        "#Descobrindo a idade do usuário\n",
        "anoatual = 2024\n",
        "idadeuxx = anoatual - ano_int\n",
        "\n",
        "#Exibindo a resposta\n",
        "print(idadeuxx)"
      ],
      "metadata": {
        "id": "w8FhnYxyaWKR",
        "colab": {
          "base_uri": "https://localhost:8080/"
        },
        "outputId": "b88fec41-5631-4e6f-e050-f8bd602eaab1"
      },
      "execution_count": null,
      "outputs": [
        {
          "output_type": "stream",
          "name": "stdout",
          "text": [
            "Digite seu ano de nascimento: 2002\n",
            "22\n"
          ]
        }
      ]
    },
    {
      "cell_type": "markdown",
      "source": [
        "### 5. Variáveis"
      ],
      "metadata": {
        "id": "PvbOv_YcfnGD"
      }
    },
    {
      "cell_type": "markdown",
      "source": [
        "Você talvez tenha percebido que já mencionamos o nome \"variável\" algumas vezes ao longo do script mas não elaboramos muito sobre o que ela é. Uma variável em Python é como uma caixa que você pode usar para armazenar um valor, como um número ou um pedaço de texto. Você pode dar um nome para essa caixa e usar o nome para se referir ao valor armazenado nela mais tarde. Por exemplo, você pode criar uma variável chamada \"idade\" e atribuir um valor a ela, como 20:"
      ],
      "metadata": {
        "id": "rJYvZ1XKfsAC"
      }
    },
    {
      "cell_type": "code",
      "source": [
        "idade = 20\n",
        "\n",
        "idade"
      ],
      "metadata": {
        "id": "tolS0A81fuFB"
      },
      "execution_count": null,
      "outputs": []
    },
    {
      "cell_type": "markdown",
      "source": [
        "Agora, sempre que você usar a palavra \"idade\" em seu código, o valor 20 será usado. Você também pode alterar o valor armazenado em uma variável simplesmente atribuindo um novo valor a ela, como:"
      ],
      "metadata": {
        "id": "D17P_qfafwNQ"
      }
    },
    {
      "cell_type": "code",
      "source": [
        "idade = 25\n",
        "\n",
        "idade"
      ],
      "metadata": {
        "id": "SZwHx8u9fyAZ"
      },
      "execution_count": null,
      "outputs": []
    },
    {
      "cell_type": "markdown",
      "source": [
        "Agora, quando você usa a variável \"idade\" em seu código, o valor 25 será usado em vez de 20. Variáveis são uma parte fundamental da programação em Python e são usadas para armazenar dados temporários ou permanentes em seu programa. Por exemplo, se você estivesse trabalhando em um banco de dados, você poderia se deparar com as seguintes informações."
      ],
      "metadata": {
        "id": "nZQryXuhfz9y"
      }
    },
    {
      "cell_type": "code",
      "source": [
        "# Informações do usuário\n",
        "\n",
        "nome = \"João\"\n",
        "idade = 26\n",
        "altura = 1.76\n",
        "ano_nascimento = 2024-26\n",
        "curso = \"Ciências Sociais\""
      ],
      "metadata": {
        "id": "X9HctfaCf0aP"
      },
      "execution_count": null,
      "outputs": []
    },
    {
      "cell_type": "markdown",
      "source": [
        "Pense nos possíveis tipos de cada variável. As variáveis númericas são iguais? Que outras variáveis podemos gerar a partir dos valores observados?"
      ],
      "metadata": {
        "id": "nxWJa_ZUf_66"
      }
    },
    {
      "cell_type": "markdown",
      "source": [
        "### 6. Tipos de Dados"
      ],
      "metadata": {
        "id": "uD7EjaznlnzZ"
      }
    },
    {
      "cell_type": "markdown",
      "source": [
        "Nas seções acima, mencionamos brevemente alguns tipos de dados como strings e números. No entanto, esta não é toda a história. A seguir, temos os principais tipos de dados do Python;"
      ],
      "metadata": {
        "id": "bu3xDQFQlpK3"
      }
    },
    {
      "cell_type": "markdown",
      "source": [
        "*Strings*"
      ],
      "metadata": {
        "id": "43S4qI4alzmh"
      }
    },
    {
      "cell_type": "markdown",
      "source": [
        "Como dito acima, string é qualquer tipo de caracteres (números ou letras) envoltos por aspas."
      ],
      "metadata": {
        "id": "pPKKAa73l27T"
      }
    },
    {
      "cell_type": "code",
      "source": [
        "string1 = \"Isso é uma string\"\n",
        "\n",
        "print(string1)\n",
        "print(type(string1)) # Type permite descobrir o tipo de uma variável"
      ],
      "metadata": {
        "id": "g-2FFAAbl2hs"
      },
      "execution_count": null,
      "outputs": []
    },
    {
      "cell_type": "code",
      "source": [
        "# Um número ou sequência de números com aspas também é uma string\n",
        "\n",
        "string2 = \"1sso t4mb3m é um4 str1ng\"\n",
        "\n",
        "print(string2)\n",
        "print(type(string2))"
      ],
      "metadata": {
        "id": "zOQhQiSrmIwE"
      },
      "execution_count": null,
      "outputs": []
    },
    {
      "cell_type": "markdown",
      "source": [
        "*Inteiros (int)*"
      ],
      "metadata": {
        "id": "gSrYHSS8mc8P"
      }
    },
    {
      "cell_type": "markdown",
      "source": [
        "Int é um tipo de variável númerico. Nesse tipo de dados, só existem números inteiros. Isto é, sem números decimais ou \"quebrados\"."
      ],
      "metadata": {
        "id": "ZQVG0K9amhEG"
      }
    },
    {
      "cell_type": "code",
      "source": [
        "print(10, type(10))"
      ],
      "metadata": {
        "id": "ZGQdha-7moB5"
      },
      "execution_count": null,
      "outputs": []
    },
    {
      "cell_type": "code",
      "source": [
        "print(-10, type(-10))"
      ],
      "metadata": {
        "id": "kCaMolrRms6z"
      },
      "execution_count": null,
      "outputs": []
    },
    {
      "cell_type": "code",
      "source": [
        "print(0, type(0))"
      ],
      "metadata": {
        "id": "luIsDu7HshrZ"
      },
      "execution_count": null,
      "outputs": []
    },
    {
      "cell_type": "code",
      "source": [
        "# Tome sempre cuidado com as aspas\n",
        "\n",
        "print(\"10\" == int)"
      ],
      "metadata": {
        "id": "B4FmH93Ht5Xi"
      },
      "execution_count": null,
      "outputs": []
    },
    {
      "cell_type": "markdown",
      "source": [
        "*floats*"
      ],
      "metadata": {
        "id": "Ff_K6wAFuF7g"
      }
    },
    {
      "cell_type": "markdown",
      "source": [
        "Como é sabido, nem todos os números são inteiros. Para isso, temos a classe float, que são os números decimais, quebrados, etc.\n"
      ],
      "metadata": {
        "id": "0W8LBOgBmG0x"
      }
    },
    {
      "cell_type": "code",
      "source": [
        "print(12.34, type(12.34)) # Nota: O decimal no Python é com '.', não com ','"
      ],
      "metadata": {
        "id": "sPEczFT-uDqz"
      },
      "execution_count": null,
      "outputs": []
    },
    {
      "cell_type": "code",
      "source": [
        "print(4.2, type(4.2))"
      ],
      "metadata": {
        "id": "-pWmu4vYuQr_"
      },
      "execution_count": null,
      "outputs": []
    },
    {
      "cell_type": "markdown",
      "source": [
        "*Booleanos*"
      ],
      "metadata": {
        "id": "E-B3vay6uY4Y"
      }
    },
    {
      "cell_type": "markdown",
      "source": [
        "Por fim, temos os valores booleanos, que são valores lógicos. São Verdadeiros (TRUE) ou Falsos (FALSE). Geralmente utilizados em comparações"
      ],
      "metadata": {
        "id": "SmLihiLhubAc"
      }
    },
    {
      "cell_type": "code",
      "source": [
        "booleano = (10==10)\n",
        "\n",
        "print(booleano, type(booleano))"
      ],
      "metadata": {
        "id": "fWx2o2FpuYdy"
      },
      "execution_count": null,
      "outputs": []
    },
    {
      "cell_type": "code",
      "source": [
        "booleano2 = (0==1)\n",
        "\n",
        "print(booleano2, type(booleano2))"
      ],
      "metadata": {
        "id": "ufQea5zGu9Pq"
      },
      "execution_count": null,
      "outputs": []
    },
    {
      "cell_type": "code",
      "source": [
        "booleano3 = (0==0)\n",
        "\n",
        "print(booleano3)"
      ],
      "metadata": {
        "id": "DHD3jKHgvDmJ"
      },
      "execution_count": null,
      "outputs": []
    },
    {
      "cell_type": "markdown",
      "source": [
        "Listas vazias são consideradas falsas"
      ],
      "metadata": {
        "id": "9op1-Kxbu0SP"
      }
    },
    {
      "cell_type": "code",
      "source": [
        "print(bool(''))"
      ],
      "metadata": {
        "id": "tBfTxqsZuuhE"
      },
      "execution_count": null,
      "outputs": []
    },
    {
      "cell_type": "markdown",
      "source": [
        "#### Exercícios"
      ],
      "metadata": {
        "id": "Eg0C-4DtbABK"
      }
    },
    {
      "cell_type": "markdown",
      "source": [
        "1 - Crie uma variável str e a imprima junto do seu tipo"
      ],
      "metadata": {
        "id": "0NqSdc_xbDta"
      }
    },
    {
      "cell_type": "code",
      "source": [
        "string1 = \"Isso é uma string\"\n",
        "\n",
        "print(string1)\n",
        "print(type(string1)) # Type permite descobrir o tipo de uma variável"
      ],
      "metadata": {
        "id": "x9Sih0rLbBqQ",
        "colab": {
          "base_uri": "https://localhost:8080/"
        },
        "outputId": "3cc26b16-960e-4b3e-ac87-096cdf43e604"
      },
      "execution_count": null,
      "outputs": [
        {
          "output_type": "stream",
          "name": "stdout",
          "text": [
            "Isso é uma string\n",
            "<class 'str'>\n"
          ]
        }
      ]
    },
    {
      "cell_type": "markdown",
      "source": [
        "2 - Peça ao usuário que digite sua idade e verifique o tipo de dado resultante desse input."
      ],
      "metadata": {
        "id": "PaCrZI_RbRoA"
      }
    },
    {
      "cell_type": "code",
      "source": [
        "# Solicitando a idade\n",
        "idade_str = input(\"Digite a sua idade (em anos): \")\n",
        "\n",
        "print(idade_str)\n",
        "print(type(idade_str)) # Type permite descobrir o tipo de uma variável"
      ],
      "metadata": {
        "id": "9IJe_xRzbaZ0",
        "colab": {
          "base_uri": "https://localhost:8080/"
        },
        "outputId": "571b74ad-719e-487f-e8c0-18bbfc6aa485"
      },
      "execution_count": null,
      "outputs": [
        {
          "output_type": "stream",
          "name": "stdout",
          "text": [
            "Digite a sua idade (em anos): 22\n",
            "22\n",
            "<class 'str'>\n"
          ]
        }
      ]
    },
    {
      "cell_type": "markdown",
      "source": [
        "3 - Qual o tipo das seguintes variáveis?"
      ],
      "metadata": {
        "id": "fpxusUryboBA"
      }
    },
    {
      "cell_type": "code",
      "source": [
        "# A)\n",
        "\n",
        "x = \"12.52\"\n",
        "print(type(x))"
      ],
      "metadata": {
        "id": "fj2WSq43blbu",
        "colab": {
          "base_uri": "https://localhost:8080/"
        },
        "outputId": "07ed0a39-4395-45a6-e3bf-b80decf1bd40"
      },
      "execution_count": null,
      "outputs": [
        {
          "output_type": "stream",
          "name": "stdout",
          "text": [
            "<class 'str'>\n"
          ]
        }
      ]
    },
    {
      "cell_type": "code",
      "source": [
        "# B)\n",
        "\n",
        "y = \"José tem 53 anos\"\n",
        "print(type(y))"
      ],
      "metadata": {
        "id": "XXsOHZ9Rb5QR",
        "colab": {
          "base_uri": "https://localhost:8080/"
        },
        "outputId": "333a208a-ec21-4f6d-9d7b-68baea1a874f"
      },
      "execution_count": null,
      "outputs": [
        {
          "output_type": "stream",
          "name": "stdout",
          "text": [
            "<class 'str'>\n"
          ]
        }
      ]
    },
    {
      "cell_type": "code",
      "source": [
        "# C)\n",
        "\n",
        "z = 17.07\n",
        "print(type(z))"
      ],
      "metadata": {
        "id": "UH9mrQNlb8Xa",
        "colab": {
          "base_uri": "https://localhost:8080/"
        },
        "outputId": "50ff5cd2-65e9-4d4e-8071-bf4540ccbbb5"
      },
      "execution_count": null,
      "outputs": [
        {
          "output_type": "stream",
          "name": "stdout",
          "text": [
            "<class 'float'>\n"
          ]
        }
      ]
    },
    {
      "cell_type": "code",
      "source": [
        "# D)\n",
        "\n",
        "a = 3\n",
        "print(type(a))"
      ],
      "metadata": {
        "id": "hsxnt6K7cBbX",
        "colab": {
          "base_uri": "https://localhost:8080/"
        },
        "outputId": "e8832b55-68c2-4420-ef49-f89c0a3c22a8"
      },
      "execution_count": null,
      "outputs": [
        {
          "output_type": "stream",
          "name": "stdout",
          "text": [
            "<class 'int'>\n"
          ]
        }
      ]
    },
    {
      "cell_type": "markdown",
      "source": [
        "4 - Crie uma variável de tipo booleano (imprima o tipo da variável)"
      ],
      "metadata": {
        "id": "AtuJrvxlbk0u"
      }
    },
    {
      "cell_type": "code",
      "source": [
        "booleano = (2==2)\n",
        "print(booleano, type(booleano))"
      ],
      "metadata": {
        "id": "Ccnas4qfcVI9",
        "colab": {
          "base_uri": "https://localhost:8080/"
        },
        "outputId": "686492eb-d685-4e7c-932b-0748020a7fed"
      },
      "execution_count": null,
      "outputs": [
        {
          "output_type": "stream",
          "name": "stdout",
          "text": [
            "True <class 'bool'>\n"
          ]
        }
      ]
    },
    {
      "cell_type": "markdown",
      "source": [
        "## 7. Operações Aritméticas e Conversões"
      ],
      "metadata": {
        "id": "g3CgPFcVvMbm"
      }
    },
    {
      "cell_type": "markdown",
      "source": [
        "Você também pode utilizar o python como uma calculadora. Nesta seção, vamos mostrar as operações mais comuns."
      ],
      "metadata": {
        "id": "qwkI4bRbvTic"
      }
    },
    {
      "cell_type": "markdown",
      "source": [
        "*Operadores Aritméticos*\n",
        "\n",
        "Soma -> +\n",
        "\n",
        "Subtração -> -\n",
        "\n",
        "Multiplicação -> *\n",
        "\n",
        "Divisão -> /\n",
        "\n",
        "Divisão Inteira (resultado arredondado) -> //\n",
        "\n",
        "Potenciação (elevar à) -> **\n",
        "\n",
        "% -> Resto da divisão de um número por outro\n"
      ],
      "metadata": {
        "id": "4c_httrfvbpM"
      }
    },
    {
      "cell_type": "code",
      "source": [
        "# Vamos começar pelos números inteiros\n",
        "\n",
        "soma = 1 + 1\n",
        "\n",
        "print(soma)"
      ],
      "metadata": {
        "id": "AGGWAf34vbLe"
      },
      "execution_count": null,
      "outputs": []
    },
    {
      "cell_type": "code",
      "source": [
        "mult = 7*8\n",
        "\n",
        "mult # uma forma alternativa de imprimir uma variável é colocá-la diretamente."
      ],
      "metadata": {
        "id": "u8BNPlpnv_7s"
      },
      "execution_count": null,
      "outputs": []
    },
    {
      "cell_type": "code",
      "source": [
        "sub = 50-10\n",
        "\n",
        "sub"
      ],
      "metadata": {
        "id": "H-hBUclbwHgP"
      },
      "execution_count": null,
      "outputs": []
    },
    {
      "cell_type": "code",
      "source": [
        "div = 64/10\n",
        "\n",
        "print(div, type(div))"
      ],
      "metadata": {
        "id": "BJhMFNi6wKaU"
      },
      "execution_count": null,
      "outputs": []
    },
    {
      "cell_type": "code",
      "source": [
        "pot = 2**4\n",
        "\n",
        "print(pot, type(pot))"
      ],
      "metadata": {
        "id": "bcGqk7qSyQ6j"
      },
      "execution_count": null,
      "outputs": []
    },
    {
      "cell_type": "markdown",
      "source": [
        "Operações aritméticas também funcionam com strings. Porém, com uma lógica diferente. Você pode multiplicar uma string por um valor inteiro"
      ],
      "metadata": {
        "id": "_PQxEvTEwTMu"
      }
    },
    {
      "cell_type": "code",
      "source": [
        "print(\"Olá\"*10)"
      ],
      "metadata": {
        "id": "iXfa7BbswRW3"
      },
      "execution_count": null,
      "outputs": []
    },
    {
      "cell_type": "markdown",
      "source": [
        "Você pode concatenar duas strings"
      ],
      "metadata": {
        "id": "2vULYwSnwj3g"
      }
    },
    {
      "cell_type": "code",
      "source": [
        "x = \"olá\"\n",
        "y = \" mundo\"\n",
        "\n",
        "print(x+y)"
      ],
      "metadata": {
        "id": "UyP9vsP5wpYt"
      },
      "execution_count": null,
      "outputs": []
    },
    {
      "cell_type": "markdown",
      "source": [
        "No entanto, não é possível multiplicar uma string por outra"
      ],
      "metadata": {
        "id": "m9kyPQGGwg23"
      }
    },
    {
      "cell_type": "code",
      "source": [
        "print(\"Olá\"*\"Mundo\")"
      ],
      "metadata": {
        "id": "H3-2QebIwcHg"
      },
      "execution_count": null,
      "outputs": []
    },
    {
      "cell_type": "markdown",
      "source": [
        "Nem somar uma string e um int"
      ],
      "metadata": {
        "id": "TJ0w6Ed2w0UP"
      }
    },
    {
      "cell_type": "code",
      "source": [
        "print(5+\"10\")"
      ],
      "metadata": {
        "id": "1YZYJuKywxQv"
      },
      "execution_count": null,
      "outputs": []
    },
    {
      "cell_type": "markdown",
      "source": [
        "Operações funcionam da mesma forma que os int para os floats"
      ],
      "metadata": {
        "id": "NP4PeDwYw8Ts"
      }
    },
    {
      "cell_type": "code",
      "source": [
        "print(5.4*6.7)"
      ],
      "metadata": {
        "id": "b_BUEuXqw4jj"
      },
      "execution_count": null,
      "outputs": []
    },
    {
      "cell_type": "code",
      "source": [
        "# Se quiser arredondar o valor final\n",
        "\n",
        "print(round((5.4*6.7), 2))"
      ],
      "metadata": {
        "id": "gzgyp6GtxCpn"
      },
      "execution_count": null,
      "outputs": []
    },
    {
      "cell_type": "code",
      "source": [
        "# Numa maneira de mais fácil visualização\n",
        "\n",
        "mult2 = 5.4*6.7\n",
        "\n",
        "print(round(mult2, 2))"
      ],
      "metadata": {
        "id": "YQo0TSRxxKLk"
      },
      "execution_count": null,
      "outputs": []
    },
    {
      "cell_type": "markdown",
      "source": [
        "Se tiver dúvidas sobre algum comando ou código, lembre-se de sempre consultar a [documentação](https://docs.python.org/pt-br/3/library/functions.html?highlight=round#round) do python."
      ],
      "metadata": {
        "id": "GHYL7BrmxT18"
      }
    },
    {
      "cell_type": "markdown",
      "source": [
        "*Conversões*"
      ],
      "metadata": {
        "id": "vAQc9CLyxcET"
      }
    },
    {
      "cell_type": "markdown",
      "source": [
        "Para converter uma variável de um tipo para outro, você pode utilizar alguns comandos. Se, por exemplo, você tiver um número em formato de texto, pode transformá-lo em int pelo seguinte código"
      ],
      "metadata": {
        "id": "1Io34hVRxeia"
      }
    },
    {
      "cell_type": "code",
      "source": [
        "# str para int\n",
        "\n",
        "valor = \"57\"\n",
        "\n",
        "numerico = int(valor)\n",
        "\n",
        "print(numerico, type(numerico))\n"
      ],
      "metadata": {
        "id": "gsigeAgWxeKL"
      },
      "execution_count": null,
      "outputs": []
    },
    {
      "cell_type": "markdown",
      "source": [
        "Outras conversões são possíveis"
      ],
      "metadata": {
        "id": "IeGMj2rbx_p4"
      }
    },
    {
      "cell_type": "code",
      "source": [
        "#float to int\n",
        "float1 = 57.8\n",
        "\n",
        "inteiro = int(float1)\n",
        "\n",
        "print(inteiro, type(inteiro))"
      ],
      "metadata": {
        "id": "XJoW5nJ-yBkf"
      },
      "execution_count": null,
      "outputs": []
    },
    {
      "cell_type": "code",
      "source": [
        "# int para float\n",
        "\n",
        "inteiro2 = 6\n",
        "\n",
        "float2 = float(inteiro2)\n",
        "\n",
        "print(float2, type(float2))\n",
        "\n"
      ],
      "metadata": {
        "id": "H0lLbhwHyMaH"
      },
      "execution_count": null,
      "outputs": []
    },
    {
      "cell_type": "markdown",
      "source": [
        "Também pode converter de número para texto (str)"
      ],
      "metadata": {
        "id": "kWTevuTPynC0"
      }
    },
    {
      "cell_type": "code",
      "source": [
        "inteiro3 = 12356\n",
        "\n",
        "string1 = str(inteiro3)\n",
        "\n",
        "print(string1, type(string1))"
      ],
      "metadata": {
        "id": "3BT9HCw3ymgB"
      },
      "execution_count": null,
      "outputs": []
    },
    {
      "cell_type": "code",
      "source": [
        "float3 = 27.805432054032\n",
        "\n",
        "string2 = str(float3)\n",
        "\n",
        "print(string2, type(string2))"
      ],
      "metadata": {
        "id": "fxIFsmzYyq22"
      },
      "execution_count": null,
      "outputs": []
    },
    {
      "cell_type": "markdown",
      "source": [
        "#### Exercícios"
      ],
      "metadata": {
        "id": "jfmSYA_Sc63e"
      }
    },
    {
      "cell_type": "markdown",
      "source": [
        "1 - Peça dois números ao usuário e faça a soma destes"
      ],
      "metadata": {
        "id": "_Y-5gxtCc8dB"
      }
    },
    {
      "cell_type": "code",
      "source": [
        "# Solicitando primeiro número\n",
        "número_1 = input(\"Digite um número: \")\n",
        "\n",
        "# Convertendo o primeiro para número de ponto flutuante\n",
        "número_1_float = float(número_1)\n",
        "\n",
        "# Solicitando segundo número\n",
        "número_2 = input(\"Digite um número: \")\n",
        "\n",
        "# Convertendo o segundo para número de ponto flutuante\n",
        "número_2_float = float(número_2)\n",
        "\n",
        "# Fazendo a soma dos dois números:\n",
        "soma = número_1_float + número_2_float\n",
        "\n",
        "#Exibindo o resultado\n",
        "print(soma)"
      ],
      "metadata": {
        "id": "p1qQ8__ec8Ig",
        "colab": {
          "base_uri": "https://localhost:8080/"
        },
        "outputId": "ad68c5fd-96c9-4d34-cf15-a28326b3e3d3"
      },
      "execution_count": null,
      "outputs": [
        {
          "output_type": "stream",
          "name": "stdout",
          "text": [
            "Digite um número: 1\n",
            "Digite um número: 1\n",
            "2.0\n"
          ]
        }
      ]
    },
    {
      "cell_type": "markdown",
      "source": [
        "2 - Imprima o seguinte caractere 50 vezes"
      ],
      "metadata": {
        "id": "fYewz2OodCGu"
      }
    },
    {
      "cell_type": "code",
      "source": [
        "caractere = \"#\"\n",
        "\n",
        "print(\"#\"*50)\n"
      ],
      "metadata": {
        "id": "4TslyPVodu2K",
        "colab": {
          "base_uri": "https://localhost:8080/"
        },
        "outputId": "0aaa19f5-875c-4967-da41-710ae64d0352"
      },
      "execution_count": null,
      "outputs": [
        {
          "output_type": "stream",
          "name": "stdout",
          "text": [
            "##################################################\n"
          ]
        }
      ]
    },
    {
      "cell_type": "markdown",
      "source": [
        "3 - Peça dois números ao usuário e calcule o resultado da divisão destes"
      ],
      "metadata": {
        "id": "j1Wkz9qWd1cb"
      }
    },
    {
      "cell_type": "code",
      "source": [
        "# Solicitando primeiro número\n",
        "número_1 = input(\"Digite um número: \")\n",
        "\n",
        "# Convertendo o primeiro para número de ponto flutuante\n",
        "número_1_float = float(número_1)\n",
        "\n",
        "# Solicitando segundo número\n",
        "número_2 = input(\"Digite um número: \")\n",
        "\n",
        "# Convertendo o segundo para número de ponto flutuante\n",
        "número_2_float = float(número_2)\n",
        "\n",
        "# Fazendo a divisão dos dois números:\n",
        "divisão = número_1_float / número_2_float\n",
        "\n",
        "#Exibindo o resultado\n",
        "print(divisão)"
      ],
      "metadata": {
        "id": "BVrd-fX2d1Ic",
        "colab": {
          "base_uri": "https://localhost:8080/"
        },
        "outputId": "86bc03b9-d1f6-430b-f1aa-c7c167b8a73e"
      },
      "execution_count": null,
      "outputs": [
        {
          "output_type": "stream",
          "name": "stdout",
          "text": [
            "Digite um número: 4\n",
            "Digite um número: 2\n",
            "2.0\n"
          ]
        }
      ]
    },
    {
      "cell_type": "markdown",
      "source": [
        "4 - Peça dois números ao usuário e calcule o resultado da potência destes"
      ],
      "metadata": {
        "id": "x0tEjDPheBQb"
      }
    },
    {
      "cell_type": "code",
      "source": [
        "# Solicitando primeiro número\n",
        "número_1 = input(\"Digite um número: \")\n",
        "\n",
        "# Convertendo o primeiro para número de ponto flutuante\n",
        "número_1_float = float(número_1)\n",
        "\n",
        "# Solicitando segundo número\n",
        "número_2 = input(\"Digite um número: \")\n",
        "\n",
        "# Convertendo o segundo para número de ponto flutuante\n",
        "número_2_float = float(número_2)\n",
        "\n",
        "# Fazendo a potência dos dois números:\n",
        "potência = número_1_float ** número_2_float\n",
        "\n",
        "#Exibindo o resultado\n",
        "print(potência)"
      ],
      "metadata": {
        "id": "lYX4OYjYeJnh",
        "colab": {
          "base_uri": "https://localhost:8080/"
        },
        "outputId": "460c1932-d7f9-4e71-8199-acd4dfc672a8"
      },
      "execution_count": null,
      "outputs": [
        {
          "output_type": "stream",
          "name": "stdout",
          "text": [
            "Digite um número: 5\n",
            "Digite um número: 2\n",
            "25.0\n"
          ]
        }
      ]
    },
    {
      "cell_type": "markdown",
      "source": [
        "5 - Transforme o seguinte str em float e calcule o seu valor quadrado, apresentando o valor final em no máximo duas casas decimais"
      ],
      "metadata": {
        "id": "tAMCbuuXeJ8i"
      }
    },
    {
      "cell_type": "code",
      "source": [
        "numstr = \"42.24\"\n",
        "\n",
        "#Transformando str em float\n",
        "numstr_1 = float(numstr)\n",
        "print (numstr_1, type(numstr_1))\n",
        "\n",
        "#Calculando o quadrado do float\n",
        "print(round((numstr_1** 2), 2))"
      ],
      "metadata": {
        "id": "X5AWoxVMfGDG",
        "colab": {
          "base_uri": "https://localhost:8080/"
        },
        "outputId": "a551c9d8-fb43-4162-93c7-203cfb99707f"
      },
      "execution_count": null,
      "outputs": [
        {
          "output_type": "stream",
          "name": "stdout",
          "text": [
            "42.24 <class 'float'>\n",
            "1784.22\n"
          ]
        }
      ]
    },
    {
      "cell_type": "markdown",
      "source": [
        "## 8. Formatação de strings"
      ],
      "metadata": {
        "id": "uj_dozW01t4Z"
      }
    },
    {
      "cell_type": "markdown",
      "source": [
        "Digamos que alguém te peça para jogar todas essas informações em uma única frase. Há alguns modos de formatar a mesma informação."
      ],
      "metadata": {
        "id": "UP7fQdtE1Lm1"
      }
    },
    {
      "cell_type": "code",
      "source": [
        "# Básico\n",
        "\n",
        "print(nome, \"tem\", idade, \"anos e\", altura, \"m de altura.\", \"Nascido em\", ano_nascimento, \",\", \"atualmente está no curso de\", curso)"
      ],
      "metadata": {
        "id": "eQSxfLBc1SZH"
      },
      "execution_count": null,
      "outputs": []
    },
    {
      "cell_type": "markdown",
      "source": [
        "No entanto, essa forma é um pouco truncada e pode dificultar a leitura do código. Um modo alternativo é usar f-strings"
      ],
      "metadata": {
        "id": "C_ixyRCG10lE"
      }
    },
    {
      "cell_type": "code",
      "source": [
        "# f-string\n",
        "\n",
        "\n",
        "print(f'{nome} tem {idade} anos e {altura}m de altura. Nascido em {ano_nascimento}, atualmente está no curso de {curso}')"
      ],
      "metadata": {
        "id": "j2upiFEP1qhO"
      },
      "execution_count": null,
      "outputs": []
    },
    {
      "cell_type": "markdown",
      "source": [
        "Desse modo, tanto a escrita quanto a leitura do código são mais fluídas. Outra vantagem é a possibilidade de arredondar os valores dentro do print"
      ],
      "metadata": {
        "id": "82q9YtGT2PxK"
      }
    },
    {
      "cell_type": "code",
      "source": [
        "bolsa = 875.164\n",
        "\n",
        "print(f'{nome} recebe R${bolsa:.2f} como auxílio moradia')"
      ],
      "metadata": {
        "id": "Bgedd0iV2Gdd"
      },
      "execution_count": null,
      "outputs": []
    },
    {
      "cell_type": "markdown",
      "source": [
        "Outra possibilidade é utilizar chaves vazias e indicar as variáveis e se vai arredondar ou não ao final utilizando \".format\""
      ],
      "metadata": {
        "id": "5Mu7zXGz2k6s"
      }
    },
    {
      "cell_type": "code",
      "source": [
        "print('{} recebe R${} como auxílio moradia'.format(nome, round(bolsa,2)))"
      ],
      "metadata": {
        "id": "gHaacpDK2rR8"
      },
      "execution_count": null,
      "outputs": []
    },
    {
      "cell_type": "markdown",
      "source": [
        "Ao utilizar esse método, a ordem das variáveis tem que ser exatamente as dos colchetes. Para evitar problemas, pode utilizar algumas indicações"
      ],
      "metadata": {
        "id": "hGOk93Ds24Je"
      }
    },
    {
      "cell_type": "code",
      "source": [
        "print('{n} recebe R${b} como auxílio moradia'.format(b = round(bolsa,2), n = nome))"
      ],
      "metadata": {
        "id": "MT_7wWoN23XD"
      },
      "execution_count": null,
      "outputs": []
    },
    {
      "cell_type": "markdown",
      "source": [
        "#### Exercícios"
      ],
      "metadata": {
        "id": "ZqR6aNXmgz0S"
      }
    },
    {
      "cell_type": "markdown",
      "source": [
        "1 - Imprima as seguintes informações de um aluno utilizando o modo \"básico\" estabelecido acima."
      ],
      "metadata": {
        "id": "o5OoKPMUhJOz"
      }
    },
    {
      "cell_type": "code",
      "source": [
        "# Informações do aluno\n",
        "\n",
        "nome = \"Matheus\"\n",
        "idade = 23\n",
        "ano_nascimento = 2023 - idade\n",
        "curso = \"Química\"\n",
        "bolsa = 907.22435\n"
      ],
      "metadata": {
        "id": "11CTqvWqgzl3"
      },
      "execution_count": null,
      "outputs": []
    },
    {
      "cell_type": "code",
      "source": [
        "# Insira seu código aqui\n",
        "\n",
        "nome = \"Matheus\"\n",
        "idade = 23\n",
        "ano_nascimento = 2023 - idade\n",
        "curso = \"Química\"\n",
        "bolsa = 907.22435\n",
        "\n",
        "print(nome, \"tem\", idade , \"anos.\", \"Nascido em\", ano_nascimento,\", atualmente está no curso de\", curso , \"e recebe R$\", bolsa, \"como bolsa.\")\n"
      ],
      "metadata": {
        "id": "Q_p_YdYXhvJc",
        "colab": {
          "base_uri": "https://localhost:8080/"
        },
        "outputId": "2cdab15f-b33f-42cb-8c55-e0d5db5a6ea2"
      },
      "execution_count": null,
      "outputs": [
        {
          "output_type": "stream",
          "name": "stdout",
          "text": [
            "Matheus tem 23 anos. Nascido em 2000 , atualmente está no curso de Química e recebe R$ 907.22435 como bolsa.\n"
          ]
        }
      ]
    },
    {
      "cell_type": "markdown",
      "source": [
        "2 - Imprima as mesmas informações usando f strings"
      ],
      "metadata": {
        "id": "bjPndBSihwqk"
      }
    },
    {
      "cell_type": "code",
      "source": [
        "# F-string\n",
        "\n",
        "# Dados:\n",
        "nome = \"Matheus\"\n",
        "idade = 23\n",
        "ano_nascimento = 2023 - idade\n",
        "curso = \"Química\"\n",
        "bolsa = 907.22435\n",
        "\n",
        "print(f'{nome} tem {idade} anos. Nascido em {ano_nascimento}, atualmente está no curso de {curso} e recebe R$ {bolsa} como bolsa.')"
      ],
      "metadata": {
        "id": "-k7FcK_LhR5z",
        "colab": {
          "base_uri": "https://localhost:8080/"
        },
        "outputId": "4d98eda0-eb3c-494c-f446-aa801f901b5d"
      },
      "execution_count": null,
      "outputs": [
        {
          "output_type": "stream",
          "name": "stdout",
          "text": [
            "Matheus tem 23 anos. Nascido em 2000, atualmente está no curso de Química e recebe R$ 907.22435 como bolsa.\n"
          ]
        }
      ]
    },
    {
      "cell_type": "markdown",
      "source": [
        "3 - Imprima as mesmas informações usando chaves"
      ],
      "metadata": {
        "id": "IHNRnR0hh3Ee"
      }
    },
    {
      "cell_type": "code",
      "source": [
        "#{}\n",
        "\n",
        "# Dados:\n",
        "nome = \"Matheus\"\n",
        "idade = 23\n",
        "ano_nascimento = 2023 - idade\n",
        "curso = \"Química\"\n",
        "bolsa = 907.22435\n",
        "\n",
        "print('{n} tem {i} anos. Nascido em {a}, atualmente está no curso de {c} e recebe R$ {b} como bolsa.'.format (n = nome, i = idade, a = ano_nascimento, c = curso, b = bolsa))"
      ],
      "metadata": {
        "id": "34SlUTQ8iAQ4",
        "colab": {
          "base_uri": "https://localhost:8080/"
        },
        "outputId": "6e383f11-57fa-4589-9ac6-1af91ded3d49"
      },
      "execution_count": null,
      "outputs": [
        {
          "output_type": "stream",
          "name": "stdout",
          "text": [
            "Matheus tem 23 anos. Nascido em 2000, atualmente está no curso de Química e recebe R$ 907.22435 como bolsa.\n"
          ]
        }
      ]
    },
    {
      "cell_type": "markdown",
      "source": [
        "4 - Por meio das f strings, imprima o valor da bolsa do aluno usando apenas uma casa decimal"
      ],
      "metadata": {
        "id": "w5vaGVk6h_4z"
      }
    },
    {
      "cell_type": "code",
      "source": [
        "#{} e casa decimal\n",
        "\n",
        "# Dados:\n",
        "nome = \"Matheus\"\n",
        "idade = 23\n",
        "ano_nascimento = 2023 - idade\n",
        "curso = \"Química\"\n",
        "bolsa = 907.22435\n",
        "\n",
        "print('{n} tem {i} anos. Nascido em {a}, atualmente está no curso de {c} e recebe R$ {b} como bolsa.'.format (n = nome, i = idade, a = ano_nascimento, c = curso, b = round(bolsa,1)))"
      ],
      "metadata": {
        "id": "Jqrc9kQLiHMX",
        "colab": {
          "base_uri": "https://localhost:8080/"
        },
        "outputId": "7e10e360-87b5-4610-875d-e0f4ff773424"
      },
      "execution_count": null,
      "outputs": [
        {
          "output_type": "stream",
          "name": "stdout",
          "text": [
            "Matheus tem 23 anos. Nascido em 2000, atualmente está no curso de Química e recebe R$ 907.2 como bolsa.\n"
          ]
        }
      ]
    },
    {
      "cell_type": "markdown",
      "source": [
        "5 - Peça a idade, curso e nome de um usuário e imprima essas informações utilizando f-strings"
      ],
      "metadata": {
        "id": "Tp-0DEUnicDy"
      }
    },
    {
      "cell_type": "code",
      "source": [
        "# Solicitando a idade do usuário:\n",
        "idade = input(\"Digite sua idade (em anos): \")\n",
        "\n",
        "# Solicitando o curso do usuário:\n",
        "curso = input(\"Digite seu curso: \")\n",
        "\n",
        "# Solicitando o nome do usuário:\n",
        "nome = input(\"Digite seu nome: \")\n",
        "\n",
        "#Exibindo o resultado\n",
        "print(f'Seu nome é {nome}. Atualmente, você tem {idade} anos de idade e você está matriculado(a) no curso de {curso}.')"
      ],
      "metadata": {
        "id": "82XEF5diig-w",
        "colab": {
          "base_uri": "https://localhost:8080/"
        },
        "outputId": "6bf151bb-c270-4e2a-d1fe-a217d4a4087c"
      },
      "execution_count": null,
      "outputs": [
        {
          "output_type": "stream",
          "name": "stdout",
          "text": [
            "Digite sua idade (em anos): 22\n",
            "Digite seu curso: Ciências Sociais \n",
            "Digite seu nome: Anna\n",
            "Seu nome é Anna. Atualmente, você tem 22 anos de idade e você está matriculado(a) no curso de Ciências Sociais .\n"
          ]
        }
      ]
    },
    {
      "cell_type": "markdown",
      "source": [
        "## 9. Estruturas de Dados em Python"
      ],
      "metadata": {
        "id": "Lu9tjh5YmKuc"
      }
    },
    {
      "cell_type": "markdown",
      "source": [
        "*Listas*: Uma lista é uma coleção ordenada e mutável de elementos. Os elementos de uma lista podem ser de diferentes tipos, como strings, inteiros, booleanos e até outras listas. As listas são representadas entre colchetes e os elementos são separados por vírgulas. Exemplo: minha_lista = [1, 2, 'três', True].\n",
        "\n",
        "*Tuplas*: Uma tupla é semelhante a uma lista, mas é imutável, o que significa que não pode ser modificada após a criação. As tuplas são representadas entre parênteses e os elementos são separados por vírgulas. Exemplo: minha_tupla = (1, 2, 'três', True).\n",
        "\n",
        "*Dicionários*: Um dicionário é uma coleção de pares de chave-valor, onde cada valor é acessado por uma chave exclusiva. Os dicionários são representados entre chaves e cada par de chave-valor é separado por vírgulas. Exemplo: meu_dicionario = {'nome': 'João', 'idade': 30, 'cidade': 'São Paulo'}.\n",
        "\n",
        "*Conjuntos*: Um conjunto é uma coleção não ordenada e mutável de elementos exclusivos. Os conjuntos são representados entre chaves e os elementos são separados por vírgulas. Exemplo: meu_conjunto = {1, 2, 3, 4, 5}."
      ],
      "metadata": {
        "id": "ikqvqIuSmeBo"
      }
    },
    {
      "cell_type": "code",
      "source": [
        "# Exemplo de listas\n",
        "\n",
        "anos = [1999,2000,2001,2002]\n",
        "países = [\"China\", \"EUA\", \"Brasil\", \"Rússia\"]\n",
        "IDH = [0.802, 0.789, 0.782, 0.750]\n",
        "\n",
        "# No entanto, listas não precisam que os dados sejam do mesmo tipo (str, int, float) e podem existir listas dentro de listas (nested lists).\n",
        "\n",
        "lista_mista = [2007,\"Noruega\",0.886,\"etc.\"]\n",
        "\n",
        "nested_list = [[\"Brasil\", 0.782],[\"China\", 0.802]]\n"
      ],
      "metadata": {
        "id": "S7WegMofmmUO"
      },
      "execution_count": null,
      "outputs": []
    },
    {
      "cell_type": "code",
      "source": [
        "# Exemplo de tuplas\n",
        "\n",
        "anos = (1999,2000,2001,2002)\n",
        "países = (\"China\", \"EUA\", \"Brasil\", \"Rússia\")\n",
        "IDH = (0.802, 0.789, 0.782, 0.750)\n",
        "\n",
        "tupla_mista = (2007,\"Noruega\",0.886,\"etc.\")\n",
        "\n",
        "nested_tuple = ((\"Brasil\", 0.782),(\"China\", 0.802))\n",
        "\n",
        "type(nested_tuple)"
      ],
      "metadata": {
        "id": "PCiGmZkInrzb"
      },
      "execution_count": null,
      "outputs": []
    },
    {
      "cell_type": "code",
      "source": [
        "# Exemplo de dicionários\n",
        "\n",
        "# Criando um dicionário\n",
        "meu_dicionario = {'nome': 'João', 'idade': 30, 'cidade': 'São Paulo'}\n",
        "\n"
      ],
      "metadata": {
        "id": "VS_AZPyNpcWg"
      },
      "execution_count": null,
      "outputs": []
    },
    {
      "cell_type": "markdown",
      "source": [
        "Dicionários já parecem um pouco mais com a estrutura de planilhas que conhecemos. Um conjunto é uma coleção de elementos únicos, sem ordem definida. Isso significa que cada elemento de um conjunto é único, e não há repetições. Os conjuntos são muito úteis para realizar operações matemáticas, como união, interseção e diferença.\n",
        "\n",
        "Em Python, os conjuntos são representados por chaves {} ou pela função set(). Por exemplo:"
      ],
      "metadata": {
        "id": "r0YzuiE2m8Oi"
      }
    },
    {
      "cell_type": "code",
      "source": [
        "# Criando um conjunto com chaves\n",
        "meu_conjunto = {1, 2, 3, 4}\n",
        "\n",
        "# Criando um conjunto com a função set()\n",
        "outro_conjunto = set([3, 4, 5, 6])"
      ],
      "metadata": {
        "id": "xB2Fx3M4pv7L"
      },
      "execution_count": null,
      "outputs": []
    },
    {
      "cell_type": "markdown",
      "source": [
        "É importante notar que os conjuntos não garantem a ordem dos elementos. Portanto, se você imprimir um conjunto, os elementos podem aparecer em uma ordem diferente da ordem em que foram adicionados."
      ],
      "metadata": {
        "id": "qHXs5uSAqE2R"
      }
    },
    {
      "cell_type": "markdown",
      "source": [
        "#### Exercícios"
      ],
      "metadata": {
        "id": "JBzMbjqDivfN"
      }
    },
    {
      "cell_type": "markdown",
      "source": [
        "1 - Crie uma lista com os anos da pandemia de Covid-19"
      ],
      "metadata": {
        "id": "pKMb1VIoixmd"
      }
    },
    {
      "cell_type": "code",
      "source": [
        "#Criando a lista\n",
        "anos_da_pandemia = [2020, 2021]"
      ],
      "metadata": {
        "id": "837Kdvqkiw-N"
      },
      "execution_count": null,
      "outputs": []
    },
    {
      "cell_type": "markdown",
      "source": [
        "2 - Crie uma tupla com 5 países latino-americanos"
      ],
      "metadata": {
        "id": "cNu3r69Oi1GZ"
      }
    },
    {
      "cell_type": "code",
      "source": [
        "#Criando a tupla\n",
        "países_latino_americanos = (\"Colômbia\", \"Costa Rica\", \"Equador\", \"Paraguai\", \"Peru\")"
      ],
      "metadata": {
        "id": "YqWIP5Uni7WE"
      },
      "execution_count": null,
      "outputs": []
    },
    {
      "cell_type": "markdown",
      "source": [
        "3 - Peça o nome e idade do usuário e crie um dicionário com esses valores"
      ],
      "metadata": {
        "id": "AfaA6UPBi7sY"
      }
    },
    {
      "cell_type": "code",
      "source": [
        "#Pedindo o nome do usuário\n",
        "nome = input(\"Digite o seu nome: \")\n",
        "\n",
        "#Pedindo a idade do usuário\n",
        "idade = input(\"Digite sua idade (em números): \")\n",
        "\n",
        "#Criando um dicionário com as informações\n",
        "dic = {'nome' : nome, 'idade' : idade}"
      ],
      "metadata": {
        "id": "LMPqMPgYjqT1",
        "colab": {
          "base_uri": "https://localhost:8080/"
        },
        "outputId": "606818b7-1f0b-4304-9e11-3e1fded809b1"
      },
      "execution_count": null,
      "outputs": [
        {
          "name": "stdout",
          "output_type": "stream",
          "text": [
            "Digite o seu nome: Mel\n",
            "Digite sua idade (em números): 22\n"
          ]
        }
      ]
    },
    {
      "cell_type": "markdown",
      "source": [
        "4 - Crie um conjunto com diversos objetos utilizando a função set()"
      ],
      "metadata": {
        "id": "VGrN4pKGjucx"
      }
    },
    {
      "cell_type": "code",
      "source": [
        "#Criando o conjunto\n",
        "nosso_conjunto = set([11, 22, 33, 44, 55, 66, 77, 88, 99, 110])"
      ],
      "metadata": {
        "id": "vrk27RnKj8P8"
      },
      "execution_count": null,
      "outputs": []
    },
    {
      "cell_type": "markdown",
      "source": [
        "## Conclusão"
      ],
      "metadata": {
        "id": "MUVZ1oksqKqI"
      }
    },
    {
      "cell_type": "markdown",
      "source": [
        "Neste laboratório, o intuito era de o de introduzir os comandos, tipos de dados e operações básicas que existem em Python. Na próxima aula, discutiremos um pouco mais sobre como trabalhar com as estruturas de dados citadas acima (listas, tuplas, etc.), operadores condicionais (if, else, elif) e alguns operadores de repetição (loop, while)."
      ],
      "metadata": {
        "id": "Yf9RRB5rqMnN"
      }
    }
  ]
}