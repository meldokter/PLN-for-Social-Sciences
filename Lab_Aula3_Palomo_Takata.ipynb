{
  "nbformat": 4,
  "nbformat_minor": 0,
  "metadata": {
    "colab": {
      "provenance": []
    },
    "kernelspec": {
      "name": "python3",
      "display_name": "Python 3"
    },
    "language_info": {
      "name": "python"
    },
    "gpuClass": "standard"
  },
  "cells": [
    {
      "cell_type": "markdown",
      "source": [
        "Aluno 1 - Anna Thiemy Takata - 12507838 - Graduação - Vespertino\n",
        "\n",
        "Aluno 2 - Mel Dokter Palomo - 12507543 - Graduação - Vespertino\n"
      ],
      "metadata": {
        "id": "fooCXsz6_FDM"
      }
    },
    {
      "cell_type": "markdown",
      "source": [
        "# **Aula 3 - 26/08 - Funções, Métodos, Módulos, Bibliotecas e Numpy**\n",
        "\n"
      ],
      "metadata": {
        "id": "_ns7mAL7Sqmm"
      }
    },
    {
      "cell_type": "markdown",
      "source": [
        "<p align=\"justify\"> Quando começamos a desenvolver programas mais complexos, logo percebemos que repetir trechos de código leva a redundâncias e dificulta a manutenção. É aí que as funções entram em cena. Elas nos permitem agrupar um conjunto de instruções relacionadas em um único bloco, tornando nosso código mais organizado, legível e reutilizável. Imagine poder chamar uma função bem nomeada em vez de reescrever o mesmo código repetidamente.\n",
        "\n",
        "<p align=\"justify\"> Além disso, exploraremos como usar módulos em Python. Os módulos são como pastas de ferramentas que contêm conjuntos específicos de funções e classes. Eles nos permitem organizar nosso código em arquivos separados, facilitando a colaboração e a manutenção. Além disso, podemos aproveitar a rica biblioteca de módulos da comunidade Python para adicionar funcionalidades especializadas aos nossos programas.\n",
        "\n",
        "<p align=\"justify\"> Por fim, entraremos no mundo da computação numérica eficiente com o NumPy. Esta biblioteca poderosa oferece estruturas de dados otimizadas para operações matemáticas em arrays multidimensionais. Se você já trabalhou com matrizes ou dados científicos, você vai adorar as capacidades que o NumPy traz para suas aplicações.\n"
      ],
      "metadata": {
        "id": "WbPvhjqETV7N"
      }
    },
    {
      "cell_type": "markdown",
      "source": [
        "### 1. Funções\n",
        "\n"
      ],
      "metadata": {
        "id": "D0rD_ajPUnll"
      }
    },
    {
      "cell_type": "markdown",
      "source": [
        "<p align=\"justify\">  Em Python, uma função é um bloco de código autônomo que realiza uma tarefa específica. Elas nos permitem agrupar um conjunto de instruções relacionadas sob um único nome, que pode ser chamado sempre que necessário. Em outras palavras, as funções promovem a reutilização de código, melhoram a legibilidade e reduzem erros."
      ],
      "metadata": {
        "id": "sw2sE3Gw6Umh"
      }
    },
    {
      "cell_type": "markdown",
      "source": [
        "<p align=\"justify\"> Ao longo das aulas, já utilizamos algumas funções *built-in* do Python, como o len(), print(), etc. Para mais informações sobre as funções que já vem com o Python, acesse o <a href=\"https://docs.python.org/3/library/functions.html\">link</a>."
      ],
      "metadata": {
        "id": "4N0fcsyt3amT"
      }
    },
    {
      "cell_type": "markdown",
      "source": [
        "**Vantagens das Funções:**\n",
        "\n",
        "*   Reutilização de Código: Você pode definir uma função uma vez e usá-la em várias partes do seu programa, evitando duplicação de código.\n",
        "*   Organização: Funções permitem que você divida seu programa em partes menores e mais gerenciáveis. Cada função pode se concentrar em uma tarefa específica.\n",
        "*   Manutenção: Se você precisa fazer uma alteração em uma parte do código, alterar apenas uma função afeta todas as ocorrências em que ela é chamada.\n",
        "*   Legibilidade: Ao dar nomes descritivos às funções, seu código se torna mais legível e autoexplicativo."
      ],
      "metadata": {
        "id": "ldffHFkAruxV"
      }
    },
    {
      "cell_type": "markdown",
      "source": [
        "Exemplo simples da sintaxe de uma função:"
      ],
      "metadata": {
        "id": "-GH1Gq8z9PiT"
      }
    },
    {
      "cell_type": "code",
      "source": [
        "def saudacao(nome):\n",
        "    print(\"Olá,\", nome, \"!\")"
      ],
      "metadata": {
        "id": "hD2aeWAxsJ0m"
      },
      "execution_count": null,
      "outputs": []
    },
    {
      "cell_type": "markdown",
      "source": [
        "<p align=\"justify\">  Neste exemplo, definimos a função utilizando \"def\", a chamando de \"saudacao\", e ela recebe um parâmetro/argumento \"nome\" e imprime uma mensagem utilizando ele. No entanto, ao rodar esta célula, nada acontece além de salvar a função dentro do Python. Você precisa também chamar a função, e atribuir algum valor ao argumento \"nome\""
      ],
      "metadata": {
        "id": "alSi3RSz5h42"
      }
    },
    {
      "cell_type": "code",
      "source": [
        "saudacao(\"José\")\n"
      ],
      "metadata": {
        "id": "hYUmRAmU5ay5"
      },
      "execution_count": null,
      "outputs": []
    },
    {
      "cell_type": "markdown",
      "source": [
        "Outro exemplo de função pode ser o de pegar dois números como argumentos ('x' e 'y') e fazer a soma deles:"
      ],
      "metadata": {
        "id": "o_U7KmyI8Yhq"
      }
    },
    {
      "cell_type": "code",
      "source": [
        "def soma(x,y):\n",
        "  return x+y\n",
        "\n",
        "\n",
        "soma(2,1)"
      ],
      "metadata": {
        "id": "uHZIckGA-QRv"
      },
      "execution_count": null,
      "outputs": []
    },
    {
      "cell_type": "markdown",
      "source": [
        "Se você fizer uma função sem utilizar o return, ela vai retornar um valor *None*:\n",
        "\n"
      ],
      "metadata": {
        "id": "lnQmA6sctNVT"
      }
    },
    {
      "cell_type": "code",
      "source": [
        "def imprima(x):\n",
        "  print(x)\n",
        "\n",
        "imprima(\"Olá\")\n",
        "\n",
        "resultado = imprima(\"Olá\")\n",
        "\n",
        "print(resultado)"
      ],
      "metadata": {
        "id": "BBY2JAp1tTgf"
      },
      "execution_count": null,
      "outputs": []
    },
    {
      "cell_type": "markdown",
      "source": [
        "<p align=\"justify\">  Você também pode definir valores padrões para determinados argumentos se achar necessário. Imagine que estamos criando uma função que calcula o preço total de uma compra, considerando um desconto opcional. Vamos definir um valor padrão para o desconto, caso ele não seja especificado:"
      ],
      "metadata": {
        "id": "1IOuK9irtuDR"
      }
    },
    {
      "cell_type": "code",
      "source": [
        "def calcular_preco_total(valor_produto, desconto=0):\n",
        "    preco_com_desconto = valor_produto - (valor_produto * desconto / 100)\n",
        "    return preco_com_desconto\n",
        "\n",
        "# Chamando a função com desconto padrão de 0%\n",
        "preco_final1 = calcular_preco_total(100)\n",
        "print(\"Preço com desconto padrão:\", preco_final1)\n",
        "\n",
        "# Chamando a função com desconto de 10%\n",
        "preco_final2 = calcular_preco_total(100, 10)\n",
        "print(\"Preço com desconto de 10%:\", preco_final2)"
      ],
      "metadata": {
        "id": "Gakm2eJ8t4jq"
      },
      "execution_count": null,
      "outputs": []
    },
    {
      "cell_type": "markdown",
      "source": [
        "#### Docstrings"
      ],
      "metadata": {
        "id": "u1gnj0aGyWtS"
      }
    },
    {
      "cell_type": "markdown",
      "source": [
        "<p align=\"justify\">  Pensando tanto na legibilidade quanto no seu \"eu futuro\", uma boa prática pode ser a de utilizar docstrings em suas funções. As docstrings são strings de documentação que fornecem informações sobre módulos, funções, classes ou métodos em Python. Elas são usadas para descrever o propósito, o funcionamento e os parâmetros de uma entidade do código, tornando o código mais compreensível e autoexplicativo.\n",
        "\n",
        "<p align=\"justify\">  As docstrings são delimitadas por três aspas (simples ou duplas) no início e no final da definição de uma entidade. Aqui está um exemplo de uma docstring para uma função:"
      ],
      "metadata": {
        "id": "0AGr7r_OyYTB"
      }
    },
    {
      "cell_type": "code",
      "source": [
        "def calcular_media(valores):\n",
        "    \"\"\"\n",
        "    Calcula a média dos valores em uma lista.\n",
        "\n",
        "    Args:\n",
        "        valores (list): Uma lista de valores numéricos.\n",
        "\n",
        "    Returns:\n",
        "        float: A média dos valores.\n",
        "\n",
        "    Exemplo:\n",
        "        >>> calcular_media([1, 2, 3, 4, 5])\n",
        "        3.0\n",
        "    \"\"\"\n",
        "    total = sum(valores)\n",
        "    media = total / len(valores)\n",
        "    return media"
      ],
      "metadata": {
        "id": "mPvlxEm5y-DN"
      },
      "execution_count": null,
      "outputs": []
    },
    {
      "cell_type": "markdown",
      "source": [
        "Veja que a função ainda funciona da forma desejada."
      ],
      "metadata": {
        "id": "MLEJBt22zK9I"
      }
    },
    {
      "cell_type": "code",
      "source": [
        "calcular_media([1,2,3,4,5])"
      ],
      "metadata": {
        "id": "sdma-dhDzBa1"
      },
      "execution_count": null,
      "outputs": []
    },
    {
      "cell_type": "markdown",
      "source": [
        "Para consultar a documentação da função, pode se utilizar o atributo '\\_\\_doc\\_\\_'."
      ],
      "metadata": {
        "id": "Gd5a5aoxzPKU"
      }
    },
    {
      "cell_type": "code",
      "source": [
        "print(calcular_media.__doc__)"
      ],
      "metadata": {
        "id": "l2PgSQAgzXKA"
      },
      "execution_count": null,
      "outputs": []
    },
    {
      "cell_type": "markdown",
      "source": [
        "#### Métodos"
      ],
      "metadata": {
        "id": "tzseg0Huz6by"
      }
    },
    {
      "cell_type": "markdown",
      "source": [
        "<p align=\"justify\">  Métodos são funções que estão associadas a objetos em Python. Eles permitem que você defina ações que um objeto pode realizar ou comportamentos que ele pode ter. Em termos simples, métodos são funções que são definidas dentro de uma classe e são acessadas através das instâncias dessa classe.\n",
        "\n",
        "<p align=\"justify\">  O conceito de classe é muito avançado para o intuito dessa aula. Mas o que importa destacar é a diferença entre funções no Python, como len(), print(), input(), e métodos de objetos, como list.append(), list.extend(), list.insert(), etc. Todos os objetos em python possuem métodos próprios associados à eles, e é necessário sempre consultar a documentação para entender quais estão ao seu dispor. Por exemplo, olhe os métodos <a href=\"https://docs.python.org/3/tutorial/datastructures.html#\">disponíveis</a> para listas em Python. Também é possível consultar a documentação de determinado método utilizando o \"__doc__\".\n"
      ],
      "metadata": {
        "id": "n8Z09J_x3RcF"
      }
    },
    {
      "cell_type": "code",
      "source": [
        "print(list.append.__doc__)"
      ],
      "metadata": {
        "id": "WpKRbNIb6Myu"
      },
      "execution_count": null,
      "outputs": []
    },
    {
      "cell_type": "markdown",
      "source": [
        "Se quiser, também pode listar todos os métodos e atributos de um objeto em Python utilizando a função *dir*:"
      ],
      "metadata": {
        "id": "Vpp1VtJ9Ogw1"
      }
    },
    {
      "cell_type": "code",
      "source": [
        "# Métodos e atributos do dicionário\n",
        "\n",
        "dicionario = {\"nome\":'josé'}\n",
        "\n",
        "dir(dicionario)"
      ],
      "metadata": {
        "id": "cktm3ez0Om24"
      },
      "execution_count": null,
      "outputs": []
    },
    {
      "cell_type": "markdown",
      "source": [
        "#### Escopo de Variáveis\n",
        "\n",
        "O escopo de variáveis em Python se refere à região do código onde uma variável pode ser acessada e manipulada. O escopo determina onde uma variável é válida e em quais partes do programa ela pode ser utilizada.\n",
        "\n",
        "Existem dois principais tipos de escopo em Python:"
      ],
      "metadata": {
        "id": "t3xq-yFNBcbC"
      }
    },
    {
      "cell_type": "markdown",
      "source": [
        "##### Escopo Local"
      ],
      "metadata": {
        "id": "5UtZeve0BtTs"
      }
    },
    {
      "cell_type": "markdown",
      "source": [
        "Variáveis definidas dentro de uma função têm escopo local, o que significa que elas só podem ser acessadas dentro dessa função. Elas são visíveis apenas para o bloco de código em que foram definidas. Uma vez que a execução da função é concluída, as variáveis locais não podem mais ser acessadas."
      ],
      "metadata": {
        "id": "dBJzvT0uBw8v"
      }
    },
    {
      "cell_type": "code",
      "source": [
        "def minha_funcao():\n",
        "    variavel_local = 10\n",
        "    print(variavel_local)  # Acesso dentro da função\n",
        "\n",
        "minha_funcao()\n"
      ],
      "metadata": {
        "id": "__omNnw0Bwed"
      },
      "execution_count": null,
      "outputs": []
    },
    {
      "cell_type": "code",
      "source": [
        "# Agora, se eu tentar imprimir o valor da variável local, veja o que acontece:\n",
        "\n",
        "print(variavel_local)"
      ],
      "metadata": {
        "id": "zIORotwIB5-g"
      },
      "execution_count": null,
      "outputs": []
    },
    {
      "cell_type": "markdown",
      "source": [
        "##### Escopo Global\n",
        "\n",
        "Variáveis definidas fora de qualquer função ou bloco de código têm escopo global. Elas podem ser acessadas de qualquer parte do código, incluindo dentro de funções. No entanto, se você deseja modificar uma variável global de dentro de uma função, precisa usar a palavra-chave global para indicar que está se referindo à variável global, em vez de criar uma nova variável local com o mesmo nome. No entanto, isso não é recomendado, pois pode gerar problemas no seu código se outras partes dele dependem do valor da variável global do modo como está."
      ],
      "metadata": {
        "id": "bdXz0vT-B8Q2"
      }
    },
    {
      "cell_type": "code",
      "source": [
        "variavel_global = 20\n",
        "\n",
        "def minha_funcao():\n",
        "    global variavel_global\n",
        "    variavel_global += 1\n",
        "    print(variavel_global)  # Acesso e modificação dentro da função\n",
        "\n",
        "minha_funcao()\n",
        "print(variavel_global)  # Acesso fora da função"
      ],
      "metadata": {
        "id": "Q1j4w5YVCI8H"
      },
      "execution_count": null,
      "outputs": []
    },
    {
      "cell_type": "markdown",
      "source": [
        "É importante entender o escopo das variáveis, pois ajuda a evitar bugs e problemas de lógica no código. Variáveis locais são úteis para manter um contexto limitado a uma função, enquanto variáveis globais podem ser usadas para compartilhar informações entre várias partes do programa. É recomendável usar variáveis locais sempre que possível, pois isso ajuda a manter o código legível e evitar confusões em códigos mais longos."
      ],
      "metadata": {
        "id": "4HM68f_gCM60"
      }
    },
    {
      "cell_type": "markdown",
      "source": [
        "#### Funções Lambda"
      ],
      "metadata": {
        "id": "llTf_GFqGNxo"
      }
    },
    {
      "cell_type": "markdown",
      "source": [
        "<p align=\"justify\"> Funções <i>lambda</i>, também conhecidas como funções anônimas, são funções pequenas e simples que podem ser criadas de forma concisa usando a expressão <i>lambda</i> em Python. Elas são especialmente úteis quando você precisa de uma função temporária para um cálculo rápido e não deseja definir uma função completa usando a declaração <i>def</i>.\n",
        "\n",
        "<p align=\"justify\"> A sintaxe básica de uma função <i>lambda</i> é a seguinte:"
      ],
      "metadata": {
        "id": "1KeF4hsxGSeT"
      }
    },
    {
      "cell_type": "code",
      "source": [
        "lambda argumentos: expressao"
      ],
      "metadata": {
        "id": "gQgQeawYGTFY"
      },
      "execution_count": null,
      "outputs": []
    },
    {
      "cell_type": "markdown",
      "source": [
        "<p align=\"justify\"> As funções <i>lambda</i> têm as seguintes características:\n",
        "\n",
        "<p align=\"justify\"> *   Anonimato: As funções <i>lambda</i> são anônimas, o que significa que você não atribui um nome a elas como faz com as funções definidas com <i>def</i>.\n",
        "\n",
        "<p align=\"justify\"> *   Expressão Única: A expressão <i>lambda</i> deve ser uma única expressão que é avaliada e retornada quando a função é chamada. Não é possível incluir várias instruções ou blocos de código.\n",
        "\n",
        "<p align=\"justify\"> *   Uso Geral: As funções <i>lambda</i> são mais usadas em situações onde uma função simples é necessária como argumento para outras funções: como <i>map</i>, <i>filter</i> e <i>sorted</i>.\n",
        "\n",
        "\n",
        "Exemplo:"
      ],
      "metadata": {
        "id": "yShAVlJEGUg3"
      }
    },
    {
      "cell_type": "code",
      "source": [
        "# Usando uma função lambda para calcular o quadrado de um número\n",
        "quadrado = lambda x: x ** 2\n",
        "\n",
        "print(quadrado(5))  # Saída: 25\n",
        "\n",
        "# Usando uma função lambda como argumento para a função map\n",
        "numeros = [1, 2, 3, 4, 5]\n",
        "quadrados = list(map(lambda x: x ** 2, numeros))\n",
        "print(quadrados)  # Saída: [1, 4, 9, 16, 25]"
      ],
      "metadata": {
        "id": "a2kTYlBMGjFf"
      },
      "execution_count": null,
      "outputs": []
    },
    {
      "cell_type": "markdown",
      "source": [
        "A função <i>map</i> é mais avançada. Se tiver interesse, pode descobrir mais sobre ela no [link](https://docs.python.org/3/library/functions.html?highlight=map#map).\n",
        "\n",
        "<p align=\"justify\"> De forma geral, as expressões <i>lambda</i> são utilizadas quando não parece ser proveitoso fazer a definição de uma função completa."
      ],
      "metadata": {
        "id": "Z3-nZIDTGnrw"
      }
    },
    {
      "cell_type": "markdown",
      "source": [
        "#### Imports"
      ],
      "metadata": {
        "id": "TNmdzH4Ilytf"
      }
    },
    {
      "cell_type": "markdown",
      "source": [
        "<p align=\"justify\"> O <i>import</i> em Python é uma construção que permite que você acesse funcionalidades de módulos externos ou bibliotecas para ampliar as capacidades do Python. Módulos são arquivos Python que contêm definições e declarações que podem ser reutilizadas em diferentes partes do seu programa. Importar um módulo permite que você utilize essas funções, classes e variáveis em seu próprio código.\n",
        "\n",
        "<p align=\"justify\"> Existem diferentes maneiras de usar o <i>import</i>. Você pode importar um módulo inteiro usando a palavra-chave <i>import</i>. Por exemplo:\n"
      ],
      "metadata": {
        "id": "uF3l5X3Kl0Ag"
      }
    },
    {
      "cell_type": "code",
      "source": [
        "import math\n",
        "print(math.sqrt(25))  # Usando a função sqrt do módulo math"
      ],
      "metadata": {
        "id": "iSMAlHvWl5yQ"
      },
      "execution_count": null,
      "outputs": []
    },
    {
      "cell_type": "markdown",
      "source": [
        "Se você quiser importar apenas partes específicas de um módulo, pode usar a instrução <i>from</i> ... <i>import</i> .... Por exemplo:"
      ],
      "metadata": {
        "id": "CStbnWhhl--f"
      }
    },
    {
      "cell_type": "code",
      "source": [
        "from math import sqrt\n",
        "print(sqrt(25))  # Não é necessário usar math.sqrt, apenas sqrt"
      ],
      "metadata": {
        "id": "-8bpTLK4mBPh"
      },
      "execution_count": null,
      "outputs": []
    },
    {
      "cell_type": "markdown",
      "source": [
        "<p align=\"justify\"> Você também pode renomear módulos ao importá-los usando a palavra-chave <i>as</i>. Isso é útil quando o nome do módulo é longo ou pode causar conflitos com outros nomes."
      ],
      "metadata": {
        "id": "bATVHSPtmGBv"
      }
    },
    {
      "cell_type": "code",
      "source": [
        "import numpy as np"
      ],
      "metadata": {
        "id": "OjJNW2_2mHdJ"
      },
      "execution_count": null,
      "outputs": []
    },
    {
      "cell_type": "markdown",
      "source": [
        "Principais Módulos Utilizados:\n",
        "\n",
        "<p align=\"justify\"> Existem muitos módulos populares e bibliotecas externas em Python que estendem suas funcionalidades. Alguns dos principais módulos e suas funcionalidades incluem:\n",
        "\n",
        "<p align=\"justify\"> *   <i>math</i>: Fornece funções matemáticas como trigonometria, logaritmo e mais.\n",
        "<p align=\"justify\"> *   <i>random</i>: Gera números aleatórios.\n",
        "<p align=\"justify\"> *   <i>datetime</i>: Manipula datas e horas.\n",
        "<p align=\"justify\"> *   <i>os</i>: Fornece funcionalidades para interagir com o sistema operacional.\n",
        "<p align=\"justify\"> *   <i>sys</i>: Fornece acesso a variáveis e funções específicas do interpretador Python.\n",
        "<p align=\"justify\"> *   <i>json</i>: Lida com a codificação e decodificação de dados JSON.\n",
        "<p align=\"justify\"> *   <i>requests</i>: Faz solicitações HTTP para interagir com APIs da web.\n",
        "<p align=\"justify\"> *   <i>numpy</i>: Biblioteca para computação numérica eficiente com arrays multidimensionais.\n",
        "<p align=\"justify\"> *   <i>pandas</i>: Biblioteca para análise e manipulação de dados tabulares.\n",
        "<p align=\"justify\"> *   <i>matplotlib</i>: Biblioteca para criação de gráficos e visualizações.\n",
        "\n",
        "\n",
        "<p align=\"justify\"> Esses são apenas alguns exemplos de módulos populares. O Python tem uma ampla variedade de bibliotecas para diferentes finalidades, e você pode encontrar outras opções a depender das necessidades específicas do seu projeto."
      ],
      "metadata": {
        "id": "bKr_b8iPoQD6"
      }
    },
    {
      "cell_type": "markdown",
      "source": [
        "### Exercícios"
      ],
      "metadata": {
        "id": "xS640Eo_B_A_"
      }
    },
    {
      "cell_type": "markdown",
      "source": [
        "<p align=\"justify\"> 1 -  Crie uma função que recebe 3 números como parâmetros e exiba a soma entre  eles. Depois, faça uma chamada à função."
      ],
      "metadata": {
        "id": "TIwStOxHUTai"
      }
    },
    {
      "cell_type": "code",
      "source": [
        "# Criando uma função que receba três números (x,y e Z) e os some:\n",
        "def soma(x,y,Z):\n",
        "  return x+y+Z\n",
        "\n",
        "# Chamando a função de soma de três números:\n",
        "soma(5,10,15)"
      ],
      "metadata": {
        "id": "6UVus0k3TOLV",
        "colab": {
          "base_uri": "https://localhost:8080/"
        },
        "outputId": "8d5aded9-327c-4b8f-cfd4-47f776cd3b45"
      },
      "execution_count": null,
      "outputs": [
        {
          "output_type": "execute_result",
          "data": {
            "text/plain": [
              "30"
            ]
          },
          "metadata": {},
          "execution_count": 107
        }
      ]
    },
    {
      "cell_type": "markdown",
      "source": [
        "<p align=\"justify\"> 2 - Crie uma função que receba 2 números. O primeiro é um valor e o segundo um percentual (ex. 10%). Retorne (return) o valor do primeiro número somado do aumento percentual do mesmo. Execute a função para ver se o resultado está correto."
      ],
      "metadata": {
        "id": "8MNj4OSyU8Us"
      }
    },
    {
      "cell_type": "code",
      "source": [
        "# Estabelecendo uma função que soma o valor do primeiro e o seu percentual de aumento:\n",
        "def soma_percentual(valor, percentual):\n",
        "    aumento_percentual = valor * (percentual / 100)\n",
        "    resultado = valor + aumento_percentual\n",
        "    return resultado\n",
        "\n",
        "# Chamando a função de soma do valor e do aumento percentual:\n",
        "soma_percentual(100, 10)"
      ],
      "metadata": {
        "id": "y_fLjaLvTOEy",
        "colab": {
          "base_uri": "https://localhost:8080/"
        },
        "outputId": "eb8e8f20-b2d2-4246-b576-48a1148a51ca"
      },
      "execution_count": null,
      "outputs": [
        {
          "output_type": "execute_result",
          "data": {
            "text/plain": [
              "110.0"
            ]
          },
          "metadata": {},
          "execution_count": 111
        }
      ]
    },
    {
      "cell_type": "markdown",
      "source": [
        "<p align=\"justify\"> 3 - Vá na documentação de strings do Python (<a href = https://docs.python.org/3/library/stdtypes.html?highlight=upper#string-methods> Link</a>). Com isso em mãos, crie uma função que recebe uma string como argumento e que deixa o primeiro caractere em maiúsculo. Chame a função ao final da célula."
      ],
      "metadata": {
        "id": "YCLW__joVLop"
      }
    },
    {
      "cell_type": "code",
      "source": [
        "# Criando uma função que torne a primeira letra de uma string maiúscula:\n",
        "# 'str.capitalize()'\n",
        "def capitalizar_primeira_letra(texto):\n",
        "  texto_capitalizado = texto[0].capitalize() + texto[1:] # Garantindo que apenas a primeira letra sofra alterações e o restante do texto se mantenha igual\n",
        "  return texto_capitalizado\n",
        "\n",
        "# Chamando a função:\n",
        "capitalizar_primeira_letra(\"mel\")"
      ],
      "metadata": {
        "id": "TWbms9g7TN-I",
        "colab": {
          "base_uri": "https://localhost:8080/",
          "height": 36
        },
        "outputId": "644708d9-4b96-4505-bb0f-7107572254dc"
      },
      "execution_count": null,
      "outputs": [
        {
          "output_type": "execute_result",
          "data": {
            "text/plain": [
              "'Mel'"
            ],
            "application/vnd.google.colaboratory.intrinsic+json": {
              "type": "string"
            }
          },
          "metadata": {},
          "execution_count": 117
        }
      ]
    },
    {
      "cell_type": "markdown",
      "source": [
        "<p align=\"justify\"> 4 - Crie uma função que recebe uma lista de strings e as retorna totalmente em letras minúsculas."
      ],
      "metadata": {
        "id": "g04JWLs3DBTt"
      }
    },
    {
      "cell_type": "code",
      "source": [
        "# Dada a lista de exemplo:\n",
        "Lista = [\"Brasileiro\", \"URUGUAIO\", \"aRgentino\", \"ChiLENo\"]\n",
        "\n",
        "# Criando uma função que recebe uma lista de strings e as retorna em letras minúsculas:\n",
        "def letras_minúsculas(Lista):\n",
        "  return [string.lower() for string in Lista]\n",
        "\n",
        "# Chamando a função que torna todas as strings minúsculas:\n",
        "letras_minúsculas(Lista)"
      ],
      "metadata": {
        "id": "o8shTSEQDWzY",
        "colab": {
          "base_uri": "https://localhost:8080/"
        },
        "outputId": "ad1081e1-2614-4011-89b2-4c33e354feb7"
      },
      "execution_count": null,
      "outputs": [
        {
          "output_type": "execute_result",
          "data": {
            "text/plain": [
              "['brasileiro', 'uruguaio', 'argentino', 'chileno']"
            ]
          },
          "metadata": {},
          "execution_count": 118
        }
      ]
    },
    {
      "cell_type": "markdown",
      "source": [
        "<p align=\"justify\"> 5 - Crie uma função que receba três listas como argumentos e as junte em um dicionário. A função deve retornar o dicionário final. Execute a função utilizando as três listas abaixo, apresentando o resultado final em um print. Lembre-se, cada elemento da lista deve estar associado ao seu equivalente dentro do dicionário (i.e. \"Alice\" com \"Jonhson\" com \"alice@example.com\"). Dica: você vai precisar da função <a href =https://docs.python.org/3/library/functions.html?highlight=zip#zip><i>zip</i></a> e revisar um pouco mais de <a href = https://docs.python.org/3/tutorial/datastructures.html?highlight=dictionaries#dictionaries> dicionários </a>."
      ],
      "metadata": {
        "id": "EVFVGeJ7Vfza"
      }
    },
    {
      "cell_type": "code",
      "source": [
        "# Dadas as seguintes listas de exemplo (nome, sobrenome, email):\n",
        "primeiros_nomes = [\"Alice\", \"Bob\", \"Carol\", \"David\", \"Eve\"]\n",
        "ultimos_nomes = [\"Johnson\", \"Smith\", \"Williams\", \"Brown\", \"Davis\"]\n",
        "emails = [\"alice@example.com\", \"bob@example.com\", \"carol@example.com\", \"david@example.com\", \"eve@example.com\"]\n",
        "\n",
        "# Estabelecemos a seguinte função que retorna um dicionário:\n",
        "def juntar_dados(Lista_1, Lista_2, Lista_3):\n",
        "    Dicionário = []\n",
        "    for x, y, z in zip(Lista_1, Lista_2, Lista_3):\n",
        "        dados = {\"Nome\": x, \"Sobrenome\": y, \"E-mail\": z}\n",
        "        Dicionário.append(dados)\n",
        "    return Dicionário\n",
        "\n",
        "# Chamando a função:\n",
        "juntar_dados(primeiros_nomes, ultimos_nomes, emails)"
      ],
      "metadata": {
        "colab": {
          "base_uri": "https://localhost:8080/"
        },
        "id": "nxGZCR8OLxke",
        "outputId": "7569737a-6898-424a-f4c7-1c63d0895bb2"
      },
      "execution_count": null,
      "outputs": [
        {
          "output_type": "execute_result",
          "data": {
            "text/plain": [
              "[{'Nome': 'Alice', 'Sobrenome': 'Johnson', 'E-mail': 'alice@example.com'},\n",
              " {'Nome': 'Bob', 'Sobrenome': 'Smith', 'E-mail': 'bob@example.com'},\n",
              " {'Nome': 'Carol', 'Sobrenome': 'Williams', 'E-mail': 'carol@example.com'},\n",
              " {'Nome': 'David', 'Sobrenome': 'Brown', 'E-mail': 'david@example.com'},\n",
              " {'Nome': 'Eve', 'Sobrenome': 'Davis', 'E-mail': 'eve@example.com'}]"
            ]
          },
          "metadata": {},
          "execution_count": 119
        }
      ]
    },
    {
      "cell_type": "markdown",
      "source": [
        "<p align=\"justify\"> 6 - Abaixo você encontra uma lista com temperaturas em graus Celsius. Crie uma função anônima que converta cada temperatura para Fahrenheit. Dica: para conseguir realizar este exercício, você deve criar sua função <i>lambda</i>, dentro de uma função.\n",
        "\n",
        "<p align=\"justify\"> Fórmula: F = (C * 1,8) + 32."
      ],
      "metadata": {
        "id": "KeELXjCYWZpy"
      }
    },
    {
      "cell_type": "code",
      "source": [
        "# Dada a lista de temperaturas em graus Celsius:\n",
        "Celsius = [35, 25, 17, 28.5]\n",
        "\n",
        "# Criamos uma função anônima que converta a temperatura de Celsius para Fahrenheit:\n",
        "Temperatura_Fahrenheit = lambda c: (c * 1.8) + 32\n",
        "\n",
        "# Gerando uma lista com as temperaturas convertidas:\n",
        "Fahrenheit = [Temperatura_Fahrenheit(c) for c in Celsius]\n",
        "\n",
        "# Imprimindo o resultado:\n",
        "print(Fahrenheit)"
      ],
      "metadata": {
        "id": "Sr0mYe09TN3y",
        "colab": {
          "base_uri": "https://localhost:8080/"
        },
        "outputId": "84573c94-5286-4834-d294-6f7868717843"
      },
      "execution_count": null,
      "outputs": [
        {
          "output_type": "stream",
          "name": "stdout",
          "text": [
            "[95.0, 77.0, 62.6, 83.30000000000001]\n"
          ]
        }
      ]
    },
    {
      "cell_type": "markdown",
      "source": [
        "<p align=\"justify\"> 7 - Crie uma função que receba uma lista de números. Com essa lista, a função deve calcular média, moda, mediana e desvio padrão. Ao fim, deve imprimir cada um desses valores em linhas separadas. Não esqueça de conferir a <a href = https://docs.python.org/3/library/statistics.html?highlight=mean#statistics.mean> dica </a>."
      ],
      "metadata": {
        "id": "IPQxiTmqgmoD"
      }
    },
    {
      "cell_type": "code",
      "source": [
        "# Importando pacote para matemática descritiva:\n",
        "import statistics\n",
        "\n",
        "# Exemplo de lista númerica para o exercício:\n",
        "Número = [1, 2, 3, 4, 5, 6, 7, 8, 9, 10]\n",
        "\n",
        "# Criando uma função que faça as estatísticas descritivas da lista:\n",
        "def Estatística_Descritiva(Número):\n",
        "\n",
        "# Utilizamos 'try' e 'except' buscando evitar possíveis erros:\n",
        "    try:\n",
        "        Média = statistics.fmean(Número)\n",
        "        # Moda = statistics.mode(Número)\n",
        "        ## The statistics.mode() function in Python is designed to return the most frequently occurring value in a dataset. However, when there is no single most frequent value (as in the case of [1, 2, 3, 4] where all values occur exactly once), the function will return the first value in the dataset by default1.\n",
        "        Moda = statistics.multimode(Número)\n",
        "        Mediana = statistics.median(Número)\n",
        "        Desvio_Padrão = statistics.stdev(Número)\n",
        "\n",
        "        resultado = f\"Média: {Média}\\n\" # \\n é utilizado para apresentar os resultados em linhas diferentes\n",
        "        resultado += f\"Moda: {Moda}\\n\"\n",
        "        resultado += f\"Mediana: {Mediana}\\n\"\n",
        "        resultado += f\"Desvio Padrão: {Desvio_Padrão:.2f}\" # Para a apresentação poderíamos utilizar ':.2f' para apresentar apenas duas casas decimais\n",
        "\n",
        "        return resultado\n",
        "\n",
        "    except statistics.StatisticsError as e:\n",
        "        return f\"Erro ao calcular estatísticas: {str(e)}\"\n",
        "\n",
        "print(Estatística_Descritiva(Número))"
      ],
      "metadata": {
        "colab": {
          "base_uri": "https://localhost:8080/"
        },
        "id": "5T01MVUdk9wc",
        "outputId": "0161f700-f984-4e08-db17-ba16e2516ef5"
      },
      "execution_count": null,
      "outputs": [
        {
          "output_type": "stream",
          "name": "stdout",
          "text": [
            "Média: 5.5\n",
            "Moda: [1, 2, 3, 4, 5, 6, 7, 8, 9, 10]\n",
            "Mediana: 5.5\n",
            "Desvio Padrão: 3.03\n"
          ]
        }
      ]
    },
    {
      "cell_type": "markdown",
      "source": [
        "<p align=\"justify\"> 8 - Calculadora Simples: Crie uma calculadora simples com funções para realizar operações de adição, subtração, multiplicação e divisão. A função principal deve pedir ao usuário qual operação deseja realizar e, em seguida, solicitar os números para a operação."
      ],
      "metadata": {
        "id": "2Nw4AaC3WviX"
      }
    },
    {
      "cell_type": "code",
      "source": [
        "# Calculadora Simples: adição, subtração, multiplicação e divisão\n",
        "\n",
        "# Criando a função para a adição:\n",
        "def adição(a, b):\n",
        "    return a + b\n",
        "\n",
        "# Criando a função para a subtração:\n",
        "def subtração(a, b):\n",
        "    return a - b\n",
        "\n",
        "# Criando a função para a multiplicação:\n",
        "def multiplicação(a, b):\n",
        "    return a * b\n",
        "\n",
        "# Criando a função para a divisão:\n",
        "def divisão(a, b):\n",
        "    if b == 0:\n",
        "        return \"Erro: Divisão por zero\"\n",
        "    else:\n",
        "        return a / b\n",
        "\n",
        "# Criando uma função que construa a calculadora:\n",
        "def Calculadora():\n",
        "  print(\"Calculadora\")\n",
        "  operações = ['1','2', '3', '4']\n",
        "\n",
        "# Garantindo que o usuário escolha uma das operações possíveis:\n",
        "  while True:\n",
        "    operação = input(\"Selecione uma operação:\\n1 - Adição\\n2 - Subtração\\n3 - Multiplicação\\n4 - Divisão\\nSua escolha (1, 2, 3 ou 4): \")\n",
        "    if operação in operações:\n",
        "      break\n",
        "    else:\n",
        "      print(\"Opção inválida. \\n Escolha 1, 2, 13 ou 4.\\n\")\n",
        "      continue\n",
        "\n",
        "# Considerando que os números podem não ser inteiros:\n",
        "  a = float(input(\"\\nDigite um número: \"))\n",
        "  b = float(input(\"Digite outro número: \"))\n",
        "\n",
        "# Determinando as condições para o funcionamento da calculadora:\n",
        "  if operação == '1':\n",
        "    print(\"Resultado:\", f\"{a} + {b} = {adição(a, b)}\")\n",
        "  elif operação == '2':\n",
        "    print(\"Resultado:\", f\"{a} - {b} = {subtração(a, b)}\")\n",
        "  elif operação == '3':\n",
        "    print(\"Resultado:\", f\"{a} * {b} = {multiplicação(a, b)}\")\n",
        "  elif operação == '4':\n",
        "    print(\"Resultado:\", f\"{a} / {b} = {divisão(a, b)}\")\n",
        "\n",
        "# Executar a calculadora\n",
        "Calculadora()"
      ],
      "metadata": {
        "id": "IHVI6n3EWZIb",
        "colab": {
          "base_uri": "https://localhost:8080/"
        },
        "outputId": "a29ccde4-3065-403f-abb2-9c73924b9ff6"
      },
      "execution_count": null,
      "outputs": [
        {
          "output_type": "stream",
          "name": "stdout",
          "text": [
            "Calculadora\n",
            "Selecione uma operação:\n",
            "1 - Adição\n",
            "2 - Subtração\n",
            "3 - Multiplicação\n",
            "4 - Divisão\n",
            "Sua escolha (1, 2, 3 ou 4): 1\n",
            "\n",
            "Digite um número: 1\n",
            "Digite outro número: 1\n",
            "Resultado: 1.0 + 1.0 = 2.0\n"
          ]
        }
      ]
    },
    {
      "cell_type": "markdown",
      "source": [
        "### 2. Numpy"
      ],
      "metadata": {
        "id": "FpvzYRmGtMfz"
      }
    },
    {
      "cell_type": "markdown",
      "source": [
        "<p align=\"justify\"> <i>NumPy</i> (Numerical Python) é uma biblioteca fundamental em Python para computação numérica e científica. Ela fornece estruturas de dados eficientes para trabalhar com arrays multidimensionais e matrizes, além de funções matemáticas para operações numéricas de alta performance. <i>NumPy</i> é amplamente utilizado em áreas como: análise de dados, aprendizado de máquina, visualização de dados e outras.\n",
        "\n",
        "<p align=\"justify\"> <b>Principais Recursos e Vantagens do NumPy:</b>\n",
        "\n",
        "<p align=\"justify\"> *  Arrays Multidimensionais: O <i>NumPy</i> introduz o objeto <i>ndarray</i>, que é uma estrutura de dados eficiente para representar arrays multidimensionais. Isso permite que você realize operações numéricas em arrays sem grandes problemas.\n",
        "\n",
        "<p align=\"justify\"> *  Operações Numéricas Eficientes: <i>NumPy</i> oferece funções matemáticas e operadores para realizar operações elementares (adição, subtração, multiplicação, etc.) em arrays inteiros de maneira otimizada.\n",
        "\n",
        "<p align=\"justify\"> *  Broadcasting: <i>NumPy</i> permite que você realize operações entre arrays de diferentes formas e tamanhos, por meio do mecanismo de broadcasting, que automaticamente alinha as dimensões dos arrays.\n",
        "\n",
        "<p align=\"justify\"> *  Funções Matemáticas Avançadas: A biblioteca inclui funções para álgebra linear, transformada de Fourier, estatísticas, entre outras operações matemáticas complexas.\n",
        "\n",
        "<p align=\"justify\"> *  Integração com Outras Bibliotecas: <i>NumPy</i> é frequentemente usado como base para outras bibliotecas e bibliotecas de análise de dados, como <i>Pandas</i>, <i>SciPy</i> e <i>Matplotlib</i>.\n",
        "\n",
        "<p align=\"justify\"> *  Eficiência: As operações em <i>NumPy</i> são implementadas em C, o que garante alta eficiência computacional."
      ],
      "metadata": {
        "id": "9hNLrbJTllgz"
      }
    },
    {
      "cell_type": "markdown",
      "source": [
        "Para importar a biblioteca, pode-se usar o seguinte código:"
      ],
      "metadata": {
        "id": "9UjCIEbOvuMk"
      }
    },
    {
      "cell_type": "code",
      "source": [
        "import numpy as np"
      ],
      "metadata": {
        "id": "GOERUpk5vxK8"
      },
      "execution_count": null,
      "outputs": []
    },
    {
      "cell_type": "markdown",
      "source": [
        "<p align=\"justify\"> É convencionado dar um \"apelido\" à certas bibliotecas utilizando o <i>\"as\"</i> depois do <i>import</i>. Abaixo estão as conveções das principais bibliotecas para análises de dados:"
      ],
      "metadata": {
        "id": "d2ZmWlxcvz42"
      }
    },
    {
      "cell_type": "code",
      "source": [
        "import numpy as np\n",
        "import pandas as pd\n",
        "import matplotlib.pyplot as plt"
      ],
      "metadata": {
        "id": "P1uAIBF_wrt4"
      },
      "execution_count": null,
      "outputs": []
    },
    {
      "cell_type": "markdown",
      "source": [
        "<p align=\"justify\"> Essas convenções são úteis para reduzir a digitação das funções dentro de cada uma dessas bibliotecas e são também amplamente reconhecidas por outros usuários."
      ],
      "metadata": {
        "id": "maiaPuvBw1jA"
      }
    },
    {
      "cell_type": "markdown",
      "source": [
        "<p align=\"justify\"> Para se ter uma noção da vantagem de se utilizar o <i>Numpy</i>, peguemos o exemplo de McKinney (2022, p. 85). Primeiro vamos gerar uma lista de um milhão de números:"
      ],
      "metadata": {
        "id": "JIvUkuM1zwke"
      }
    },
    {
      "cell_type": "code",
      "source": [
        "array_milhao = np.arange(1_000_000)\n",
        "lista_milhao = list(range(1_000_000))\n"
      ],
      "metadata": {
        "id": "UEBYU9n3z4N9"
      },
      "execution_count": null,
      "outputs": []
    },
    {
      "cell_type": "markdown",
      "source": [
        "Multiplicando cada número da lista por 2 sem o <i>NumPy</i>"
      ],
      "metadata": {
        "id": "y56TWM3Z0QgX"
      }
    },
    {
      "cell_type": "code",
      "source": [
        "%%time\n",
        "\n",
        "my_list = []\n",
        "\n",
        "for i in lista_milhao:\n",
        "  i = i * 2\n",
        "  my_list.append(i)\n"
      ],
      "metadata": {
        "id": "8V1IbZ6e1mlK"
      },
      "execution_count": null,
      "outputs": []
    },
    {
      "cell_type": "markdown",
      "source": [
        "Sem o <i>NumPy</i>, mas com <i>list comprehension</i>:"
      ],
      "metadata": {
        "id": "qx6AOT-R1kwC"
      }
    },
    {
      "cell_type": "code",
      "source": [
        "%%time\n",
        "\n",
        "my_list2 = [x* 2 for x in lista_milhao]"
      ],
      "metadata": {
        "id": "fQXMqP4h0PnT"
      },
      "execution_count": null,
      "outputs": []
    },
    {
      "cell_type": "markdown",
      "source": [
        "Agora, utilizando o <i>NumPy</i>:"
      ],
      "metadata": {
        "id": "TT-JLEFq0ebn"
      }
    },
    {
      "cell_type": "code",
      "source": [
        "%%time\n",
        "\n",
        "array_milhao = array_milhao * 2"
      ],
      "metadata": {
        "id": "52Qx10UJ0f3k"
      },
      "execution_count": null,
      "outputs": []
    },
    {
      "cell_type": "markdown",
      "source": [
        "<p align=\"justify\"> Percebe-se que é uma diferença considerável, e isso se torna cada vez mais importante conforme o tamanho do banco de dados que estamos trabalhando, se é texto ou não, e o nível de complexidade do modelo de aprendizado de máquina, especialmente se ele for de <i>deep learning</i> com múltiplas camadas e epochs."
      ],
      "metadata": {
        "id": "CNyLx3qL1IGT"
      }
    },
    {
      "cell_type": "markdown",
      "source": [
        "#### Criando um NumPy array\n",
        "\n",
        "<p align=\"justify\"> Existem várias maneiras de criar um array <i>NumPy</i>. Aqui estão algumas das principais formas de fazer isso:\n",
        "\n",
        "* 1 - Usando uma Lista Python:"
      ],
      "metadata": {
        "id": "jC5uHVXd2NO3"
      }
    },
    {
      "cell_type": "code",
      "source": [
        "lista = [1, 2, 3, 4, 5]\n",
        "array = np.array(lista)\n",
        "\n",
        "print(array, type(array))"
      ],
      "metadata": {
        "id": "IMSMIxon3RVE"
      },
      "execution_count": null,
      "outputs": []
    },
    {
      "cell_type": "markdown",
      "source": [
        "* 2 - Usando a Função numpy.array():"
      ],
      "metadata": {
        "id": "mreG6S9O3e3L"
      }
    },
    {
      "cell_type": "code",
      "source": [
        "\n",
        "array = np.array([1, 2, 3, 4, 5])\n",
        "\n",
        "print(array, type(array))"
      ],
      "metadata": {
        "id": "aGgpAQoB3gYT"
      },
      "execution_count": null,
      "outputs": []
    },
    {
      "cell_type": "markdown",
      "source": [
        "* 3 - Usando a Função numpy.arange(), como visto acima:"
      ],
      "metadata": {
        "id": "diQk-yhh3m84"
      }
    },
    {
      "cell_type": "code",
      "source": [
        "array = np.arange(1, 11)  # Cria um array com os números de 1 a 10\n",
        "\n",
        "print(array, type(array))"
      ],
      "metadata": {
        "id": "cIbkhKBM3qs5"
      },
      "execution_count": null,
      "outputs": []
    },
    {
      "cell_type": "markdown",
      "source": [
        "* 4 - Usando a Função numpy.linspace():"
      ],
      "metadata": {
        "id": "h6qjfUXC3wYv"
      }
    },
    {
      "cell_type": "code",
      "source": [
        "array = np.linspace(0, 1, num=20)  # Cria um array com 20 elementos igualmente espaçados entre 0 e 1\n",
        "\n",
        "print(array, type(array))"
      ],
      "metadata": {
        "id": "Q688Z-UB3xxl"
      },
      "execution_count": null,
      "outputs": []
    },
    {
      "cell_type": "markdown",
      "source": [
        "* 5 - Usando a Função numpy.zeros():"
      ],
      "metadata": {
        "id": "lfadhPj04Bnb"
      }
    },
    {
      "cell_type": "code",
      "source": [
        "array = np.zeros(45)  # Cria um array com 45 elementos, todos iguais a 0\n",
        "\n",
        "print(array, type(array))"
      ],
      "metadata": {
        "id": "O0koyN--4D9B"
      },
      "execution_count": null,
      "outputs": []
    },
    {
      "cell_type": "markdown",
      "source": [
        "* 6 - Usando a Função numpy.ones():"
      ],
      "metadata": {
        "id": "CcN84dvr4L3d"
      }
    },
    {
      "cell_type": "code",
      "source": [
        "array = np.ones(5)  # Cria um array com 5 elementos, todos iguais a 1\n",
        "\n",
        "print(array, type(array))"
      ],
      "metadata": {
        "id": "hs7EogXM4OaM"
      },
      "execution_count": null,
      "outputs": []
    },
    {
      "cell_type": "markdown",
      "source": [
        "* 7 - Usando a Função numpy.eye():"
      ],
      "metadata": {
        "id": "tB4Qb6yv5KYm"
      }
    },
    {
      "cell_type": "code",
      "source": [
        "array = np.eye(3)  # Cria uma matriz identidade 3x3\n",
        "\n",
        "\n",
        "print(array)\n",
        "print(type(array), array.shape, array.dtype)"
      ],
      "metadata": {
        "id": "8SNU9j095LiK"
      },
      "execution_count": null,
      "outputs": []
    },
    {
      "cell_type": "markdown",
      "source": [
        "* 8 - Usando a Função numpy.random.rand()"
      ],
      "metadata": {
        "id": "kBE2zP4F5qvb"
      }
    },
    {
      "cell_type": "code",
      "source": [
        "array = np.random.rand(5)  # Cria um array com 5 números aleatórios entre 0 e 1\n",
        "\n",
        "print(array)"
      ],
      "metadata": {
        "id": "zEcdipxE5reg"
      },
      "execution_count": null,
      "outputs": []
    },
    {
      "cell_type": "markdown",
      "source": [
        "* 9 - Usando a Função numpy.random.randint()"
      ],
      "metadata": {
        "id": "SVNj5-796VyD"
      }
    },
    {
      "cell_type": "code",
      "source": [
        "array = np.random.randint(1, 100, size=50)  # Cria um array com 50 números inteiros aleatórios entre 1 e 99\n",
        "\n",
        "print(array)"
      ],
      "metadata": {
        "id": "8wlYsNki6WEM"
      },
      "execution_count": null,
      "outputs": []
    },
    {
      "cell_type": "markdown",
      "source": [
        "* 10 - Por fim, criando um Array Vazio. Se quiser entender mais, acesse o [link](https://numpy.org/doc/stable/reference/generated/numpy.empty.html)"
      ],
      "metadata": {
        "id": "Oupg-XrM6kVp"
      }
    },
    {
      "cell_type": "code",
      "source": [
        "array_vazio = np.empty(5)  # Cria um array vazio com 5 elementos (valores não inicializados)\n",
        "\n",
        "print(array_vazio)"
      ],
      "metadata": {
        "id": "UehfCmA76oS8"
      },
      "execution_count": null,
      "outputs": []
    },
    {
      "cell_type": "markdown",
      "source": [
        "<p align=\"justify\"> Essas são apenas algumas das maneiras de criar arrays NumPy. Dependendo da situação, você pode escolher a abordagem mais adequada às suas necessidades."
      ],
      "metadata": {
        "id": "HhMdjsS36oqZ"
      }
    },
    {
      "cell_type": "markdown",
      "source": [
        "#### Tipos de dados e NumPy"
      ],
      "metadata": {
        "id": "xp2iHrX-7Nkd"
      }
    },
    {
      "cell_type": "markdown",
      "source": [
        "<p align=\"justify\"> <i>NumPy</i> oferece suporte a uma ampla variedade de tipos de dados que podem ser usados em arrays e matrizes multidimensionais. Os tipos de dados em <i>NumPy</i> são mais eficientes em termos de uso de memória e desempenho do que os tipos de dados padrão do Python. Além dos tipos numéricos inteiros e ponto flutuante, o <i>NumPy</i> inclui tipos complexos, booleanos e tipos especiais para lidar com datas e horas. Essa diversidade de tipos de dados permite a manipulação eficiente e precisa de dados em aplicações científicas, matemáticas e de análise de dados, garantindo que os cálculos sejam executados de maneira otimizada e precisa.\n",
        "\n",
        "<p align=\"justify\"> De forma geral os principais tipos de dados ainda são os básicos do Python: <i>int</i>, <i>float</i>, e <i>string</i>. Não é necessário se preocupar agora com os outros tipos apresentados na tabela 4-2 de Mckinney (2022, p.89), como o <i>int8</i>, <i>int32</i>, etc. Como dito pelo autor, isso só deve gerar preocupações \"when you need more control over how data is stored in memory and on disk, especially large datasets\"."
      ],
      "metadata": {
        "id": "sjPffsC87PBB"
      }
    },
    {
      "cell_type": "markdown",
      "source": [
        "<p align=\"justify\"> Para verificar o tipo de dado presente em um array, pode se utilizar o <i>dtype</i>:"
      ],
      "metadata": {
        "id": "c_8SJucw75JE"
      }
    },
    {
      "cell_type": "code",
      "source": [
        "# Int\n",
        "\n",
        "array = np.array([1, 2, 3, 4, 5])\n",
        "\n",
        "print(array.dtype)"
      ],
      "metadata": {
        "id": "8rQSjoS-8Qie"
      },
      "execution_count": null,
      "outputs": []
    },
    {
      "cell_type": "code",
      "source": [
        "# Float\n",
        "\n",
        "array = np.array([1.53213,7.4312423,6.412312,5.213123,2.3254325234])\n",
        "\n",
        "\n",
        "print(array.dtype)"
      ],
      "metadata": {
        "id": "kyy35zWk8YKJ"
      },
      "execution_count": null,
      "outputs": []
    },
    {
      "cell_type": "markdown",
      "source": [
        "Para converter um array de um tipo para outro, pode se usar o <i>astype</i>:"
      ],
      "metadata": {
        "id": "ShJrMG4l8ihL"
      }
    },
    {
      "cell_type": "code",
      "source": [
        "# Float para int\n",
        "\n",
        "array = np.array([1.53213,7.4312423,6.412312,5.213123,2.3254325234])\n",
        "\n",
        "array_int = array.astype(np.int64)\n",
        "\n",
        "print(array_int)\n",
        "print(array_int.dtype)\n"
      ],
      "metadata": {
        "id": "lWUSdnxo8uqK"
      },
      "execution_count": null,
      "outputs": []
    },
    {
      "cell_type": "code",
      "source": [
        "# Int para float\n",
        "\n",
        "array = np.array([1, 2, 3, 4, 5])\n",
        "\n",
        "array_float = array.astype(np.float64)\n",
        "\n",
        "print(array_float)\n",
        "print(array_float.dtype)"
      ],
      "metadata": {
        "id": "cIUB-ajN9NNH"
      },
      "execution_count": null,
      "outputs": []
    },
    {
      "cell_type": "code",
      "source": [
        "# str para float\n",
        "\n",
        "array = np.array(['5.0', '7.5', '8.5', '9.0'])\n",
        "\n",
        "array_float = array.astype(np.float64)\n",
        "\n",
        "print(array_float)\n",
        "print(array_float.dtype)"
      ],
      "metadata": {
        "id": "iuVhCUO39lOU"
      },
      "execution_count": null,
      "outputs": []
    },
    {
      "cell_type": "markdown",
      "source": [
        "#### Operações Aritméticas com Arrays"
      ],
      "metadata": {
        "id": "rOJa6HRm-Atd"
      }
    },
    {
      "cell_type": "markdown",
      "source": [
        "<p align=\"justify\"> Operações aritméticas com arrays são uma parte essencial do <i>NumPy</i>, permitindo realizar cálculos elementares de forma eficiente em arrays multidimensionais. <i>NumPy</i> facilita a execução de operações entre arrays de diferentes formas e tamanhos, usando o conceito de <b>broadcasting</b> para alinhar automaticamente as dimensões dos arrays quando necessário. Aqui estão as principais operações aritméticas suportadas pelo <i>NumPy</i>:"
      ],
      "metadata": {
        "id": "YxvvMXhr-DvU"
      }
    },
    {
      "cell_type": "markdown",
      "source": [
        "* 1 - Adição"
      ],
      "metadata": {
        "id": "kbS-2Dlo-HqF"
      }
    },
    {
      "cell_type": "code",
      "source": [
        "array1 = np.array([1, 2, 3])\n",
        "array2 = np.array([4, 5, 6])\n",
        "resultado = array1 + array2\n",
        "\n",
        "print(resultado)"
      ],
      "metadata": {
        "id": "SlZcmAZ3-C50"
      },
      "execution_count": null,
      "outputs": []
    },
    {
      "cell_type": "markdown",
      "source": [
        "<p align=\"justify\"> Veja que o <i>NumPy</i> facilita a operação, somando cada elemento do array1 com seu correspondente de índice no array 2."
      ],
      "metadata": {
        "id": "NVd5rRCJ-gCA"
      }
    },
    {
      "cell_type": "markdown",
      "source": [
        "* 2 - Subtração:"
      ],
      "metadata": {
        "id": "qTOinDbl-nUP"
      }
    },
    {
      "cell_type": "code",
      "source": [
        "resultado = array1 - array2\n",
        "\n",
        "print(resultado)"
      ],
      "metadata": {
        "id": "xduyZ3R--pgi"
      },
      "execution_count": null,
      "outputs": []
    },
    {
      "cell_type": "markdown",
      "source": [
        "* 3 - Multiplicação:\n",
        "\n",
        "Assim como em matrizes, pode se multiplicar um array por um escalar ou por outro array:"
      ],
      "metadata": {
        "id": "Qpwct8Vk-yEL"
      }
    },
    {
      "cell_type": "code",
      "source": [
        "# Escalar\n",
        "\n",
        "resultado = array1 * 10\n",
        "\n",
        "print(resultado)"
      ],
      "metadata": {
        "id": "ivEwXIn6-3Tq"
      },
      "execution_count": null,
      "outputs": []
    },
    {
      "cell_type": "code",
      "source": [
        "# Array com array\n",
        "\n",
        "resultado = array1 * array2\n",
        "\n",
        "print(resultado)"
      ],
      "metadata": {
        "id": "oldIZCvZ-8kE"
      },
      "execution_count": null,
      "outputs": []
    },
    {
      "cell_type": "markdown",
      "source": [
        "Entretanto, não se pode multiplicar arrays com dimensões diferentes. Isso tem a ver com álgebra linear e matrizes, não se pode multiplicar uma matriz em que o número de colunas da primeira matriz é diferente do número de linhas da segunda, e vice-versa."
      ],
      "metadata": {
        "id": "9wWIdvos_C7w"
      }
    },
    {
      "cell_type": "code",
      "source": [
        "array3 = np.array([1,2])\n",
        "\n",
        "resultado = array1 * array3\n",
        "\n"
      ],
      "metadata": {
        "id": "3VxYwQUO_G5E"
      },
      "execution_count": null,
      "outputs": []
    },
    {
      "cell_type": "markdown",
      "source": [
        "* 4 - Divisão\n",
        "\n",
        "Realiza divisão elemento a elemento ou divisão por um escalar:"
      ],
      "metadata": {
        "id": "V119fOJa_NDr"
      }
    },
    {
      "cell_type": "code",
      "source": [
        "resultado = array1 / array2\n",
        "resultado_div_escalar = array1 / 2\n",
        "\n",
        "print(resultado)\n",
        "print(resultado_div_escalar)"
      ],
      "metadata": {
        "id": "Ut0yGO9Q_QqI"
      },
      "execution_count": null,
      "outputs": []
    },
    {
      "cell_type": "markdown",
      "source": [
        "Também não se pode dividir arrays com dimensões diferentes:"
      ],
      "metadata": {
        "id": "rGz0LDGj_WNG"
      }
    },
    {
      "cell_type": "code",
      "source": [
        "resultado = array1 / array3"
      ],
      "metadata": {
        "id": "ZI4oiTlY_YgJ"
      },
      "execution_count": null,
      "outputs": []
    },
    {
      "cell_type": "markdown",
      "source": [
        "* 5 - Potenciação:\n",
        "\n",
        "Eleva cada elemento do array à potência indicada:"
      ],
      "metadata": {
        "id": "_XB5Kezi_dKS"
      }
    },
    {
      "cell_type": "code",
      "source": [
        "resultado_potencia = array1 ** 2\n",
        "\n",
        "print(resultado_potencia)"
      ],
      "metadata": {
        "id": "vD8Ak7AR_eyF"
      },
      "execution_count": null,
      "outputs": []
    },
    {
      "cell_type": "markdown",
      "source": [
        "* 6 - Operações Matriciais"
      ],
      "metadata": {
        "id": "nbwQkxCuBWl4"
      }
    },
    {
      "cell_type": "markdown",
      "source": [
        "<i>NumPy</i> também suporta operações matriciais, como multiplicação de matrizes e produtos internos, usando funções como np.dot() e o operador @."
      ],
      "metadata": {
        "id": "Ajwv4nZTBZMv"
      }
    },
    {
      "cell_type": "code",
      "source": [
        "matriz1 = np.array([[1, 2], [3, 4]])\n",
        "matriz2 = np.array([[5, 6], [7, 8]])\n",
        "produto_matricial = np.dot(matriz1, matriz2)\n",
        "\n",
        "print(produto_matricial)"
      ],
      "metadata": {
        "id": "4cvmFPGTBY16"
      },
      "execution_count": null,
      "outputs": []
    },
    {
      "cell_type": "markdown",
      "source": [
        "#### Testes lógicos e operações booleanas\n"
      ],
      "metadata": {
        "id": "FTgwwOFVBxlX"
      }
    },
    {
      "cell_type": "markdown",
      "source": [
        "<p align=\"justify\"> O <i>NumPy</i> oferece várias funcionalidades para realizar testes lógicos e operações booleanas em arrays, permitindo filtrar dados com base em condições e realizar operações que dependem de valores booleanos. Isso é especialmente útil para análise de dados e tomada de decisões com base em critérios específicos. Aqui estão algumas das principais funcionalidades relacionadas a testes lógicos e booleanos em <i>NumPy</i>:"
      ],
      "metadata": {
        "id": "0horCQjXCDEs"
      }
    },
    {
      "cell_type": "markdown",
      "source": [
        "<p align=\"justify\"> * 1 - Operações lógicas elementares\n",
        "\n",
        "<p align=\"justify\"> <i>NumPy</i> fornece operadores lógicos elementares, como >, <, >=, <=, ==, !=, para realizar comparações elemento a elemento entre arrays."
      ],
      "metadata": {
        "id": "RBRw7_nNCFXg"
      }
    },
    {
      "cell_type": "code",
      "source": [
        "array = np.array([1, 2, 3, 4, 5])\n",
        "maior_que_2 = array > 2\n",
        "\n",
        "print(maior_que_2)"
      ],
      "metadata": {
        "id": "h5lDBfeUD__q"
      },
      "execution_count": null,
      "outputs": []
    },
    {
      "cell_type": "code",
      "source": [
        "igual_a_3 = array == 3\n",
        "\n",
        "print(igual_a_3)"
      ],
      "metadata": {
        "id": "QurWiwbHEcg6"
      },
      "execution_count": null,
      "outputs": []
    },
    {
      "cell_type": "markdown",
      "source": [
        "* 2 - Combinação de Condições"
      ],
      "metadata": {
        "id": "MWF8MaL2EuYz"
      }
    },
    {
      "cell_type": "markdown",
      "source": [
        "Você pode usar operadores lógicos & (AND) e | (OR) para combinar condições booleanas em arrays."
      ],
      "metadata": {
        "id": "M5FD11D3ExbC"
      }
    },
    {
      "cell_type": "code",
      "source": [
        "condicao1 = array > 2\n",
        "condicao2 = array < 5\n",
        "combinacao = condicao1 & condicao2\n",
        "\n",
        "print(combinacao)"
      ],
      "metadata": {
        "id": "2k-sGfPFEwEz"
      },
      "execution_count": null,
      "outputs": []
    },
    {
      "cell_type": "markdown",
      "source": [
        "* 3 - Filtragem de Dados"
      ],
      "metadata": {
        "id": "4FJ63dIYE_tN"
      }
    },
    {
      "cell_type": "markdown",
      "source": [
        "Usando arrays booleanos, você pode filtrar os elementos que atendem a determinadas condições."
      ],
      "metadata": {
        "id": "VdfRTznyFBPz"
      }
    },
    {
      "cell_type": "code",
      "source": [
        "elementos_filtrados = array[combinacao]\n",
        "\n",
        "print(elementos_filtrados)"
      ],
      "metadata": {
        "id": "QRIw_DpiFA2v"
      },
      "execution_count": null,
      "outputs": []
    },
    {
      "cell_type": "markdown",
      "source": [
        "* 4 - Funções de Agregação Booleanas"
      ],
      "metadata": {
        "id": "Ciz61qZeFG0r"
      }
    },
    {
      "cell_type": "markdown",
      "source": [
        "<p align=\"justify\"> <i>NumPy</i> oferece funções como np.all() e np.any() para verificar se todos os elementos de um array são True ou se pelo menos um elemento é True."
      ],
      "metadata": {
        "id": "3fXoR7ECFJuN"
      }
    },
    {
      "cell_type": "code",
      "source": [
        "todos_maior_que_2 = np.all(array > 2)\n",
        "algum_igual_a_3 = np.any(array == 3)\n",
        "\n",
        "print(todos_maior_que_2)\n",
        "print(algum_igual_a_3)"
      ],
      "metadata": {
        "id": "2gu6_XxBFIih"
      },
      "execution_count": null,
      "outputs": []
    },
    {
      "cell_type": "markdown",
      "source": [
        "#### Indexação e Fatiamento de arrays"
      ],
      "metadata": {
        "id": "ths-iCCIHpF5"
      }
    },
    {
      "cell_type": "markdown",
      "source": [
        "<p align=\"justify\"> A indexação e o fatiamento (slicing) de arrays são operações fundamentais em <i>NumPy</i> que permitem acessar elementos individuais ou subconjuntos de elementos em um array multidimensional. Isso é útil para recuperar informações específicas ou para manipular dados de maneira eficiente. <b>Aqui está uma visão geral dessas operações:</b>\n",
        "\n",
        "<p align=\"justify\"> A indexação em NumPy é baseada em zero, o que significa que o primeiro elemento de um array tem índice 0, o segundo índice 1 e assim por diante. A indexação pode ser feita de forma direta para arrays unidimensionais ou usando tuplas para arrays multidimensionais."
      ],
      "metadata": {
        "id": "ZJX7X5m8Hrig"
      }
    },
    {
      "cell_type": "code",
      "source": [
        "array = np.array([10, 20, 30, 40, 50])\n",
        "\n",
        "elemento = array[0]  # Acessa o primeiro elemento (índice 0)\n",
        "ultimo_elemento = array[-1]  # Acessa o último elemento usando índice negativo\n",
        "\n",
        "print(elemento)\n",
        "print(ultimo_elemento)"
      ],
      "metadata": {
        "id": "t_EL4IiOHyBG"
      },
      "execution_count": null,
      "outputs": []
    },
    {
      "cell_type": "markdown",
      "source": [
        "<p align=\"justify\"> O fatiamento permite selecionar subconjuntos de elementos de um array. Ele é realizado usando a notação [start:stop:step], onde start é o índice de início (incluído), stop é o índice de parada (excluído) e step é o intervalo entre elementos."
      ],
      "metadata": {
        "id": "sstCb1HSH53N"
      }
    },
    {
      "cell_type": "code",
      "source": [
        "sub_array = array[1:4]  # Seleciona elementos do índice 1 ao 3 (índice 4 é excluído)\n",
        "passo2 = array[::2]  # Seleciona elementos em intervalos de 2\n",
        "\n",
        "print(sub_array)\n",
        "print(passo2)"
      ],
      "metadata": {
        "id": "CgXJAb25H8bL"
      },
      "execution_count": null,
      "outputs": []
    },
    {
      "cell_type": "markdown",
      "source": [
        "<p align=\"justify\"> Para arrays multidimensionais, você pode usar indexação e fatiamento em cada dimensão separadamente, separados por vírgulas."
      ],
      "metadata": {
        "id": "GLy7srK4ID_3"
      }
    },
    {
      "cell_type": "code",
      "source": [
        "matriz = np.array([[1, 2, 3],\n",
        "                   [4, 5, 6],\n",
        "                   [7, 8, 9]])\n",
        "\n",
        "primeira_linha = matriz[0]  # Acessa a primeira linha\n",
        "\n",
        "segunda_coluna = matriz[:, 1]  # Acessa a segunda coluna\n",
        "submatriz = matriz[1:3, 0:2]  # Seleciona uma submatriz\n",
        "\n",
        "print(primeira_linha)\n",
        "print('==============')\n",
        "print(segunda_coluna)\n",
        "print('==============')\n",
        "print(submatriz)"
      ],
      "metadata": {
        "id": "XTlgk1fvIFFC"
      },
      "execution_count": null,
      "outputs": []
    },
    {
      "cell_type": "markdown",
      "source": [
        "A figura 4-1 de Mckinney (2022) permite entender melhor a indexação de arrays."
      ],
      "metadata": {
        "id": "YVvtwYmKIpRb"
      }
    },
    {
      "cell_type": "markdown",
      "source": [
        "![image.png](data:image/png;base64,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)"
      ],
      "metadata": {
        "id": "WFGlf-obIdby"
      }
    },
    {
      "cell_type": "markdown",
      "source": [
        "### Exercícios"
      ],
      "metadata": {
        "id": "pB76DHQgnI5g"
      }
    },
    {
      "cell_type": "markdown",
      "source": [
        "<p align=\"justify\"> Antes de ir aos exercícios, explore a documentação própria do <i>Numpy</i> (<a href = https://numpy.org/doc/stable/reference/routines.html> Link</a>)."
      ],
      "metadata": {
        "id": "np3urlXCTVgw"
      }
    },
    {
      "cell_type": "markdown",
      "source": [
        "1 - Crie um array <i>NumPy</i> que contenha os primeiros 10 números pares. Imprima o array."
      ],
      "metadata": {
        "id": "leaLDwwHp1lA"
      }
    },
    {
      "cell_type": "code",
      "source": [
        "# Importando os pacotes necessários para a atividade:\n",
        "import numpy as np\n",
        "import pandas as pd\n",
        "import matplotlib.pyplot as plt\n",
        "import random\n",
        "\n",
        "# Para obter os 10 primeiros números pares, precisamos dos 20 primeiros números:\n",
        "array = np.arange(2, 22, 2)\n",
        "\n",
        "# Imprimindo o array:\n",
        "print(array)"
      ],
      "metadata": {
        "id": "zRAbyoOmp1T8",
        "colab": {
          "base_uri": "https://localhost:8080/"
        },
        "outputId": "f358fa36-d4f8-4b19-c5a2-48fabefb619c"
      },
      "execution_count": null,
      "outputs": [
        {
          "output_type": "stream",
          "name": "stdout",
          "text": [
            "[ 2  4  6  8 10 12 14 16 18 20]\n"
          ]
        }
      ]
    },
    {
      "cell_type": "markdown",
      "source": [
        "2 - Crie uma matriz identidade 4x4 usando <i>NumPy</i>. Imprima o array."
      ],
      "metadata": {
        "id": "n8RrP0ZVp16G"
      }
    },
    {
      "cell_type": "code",
      "source": [
        "# Criando uma matriz identidade 4x4:\n",
        "array = np.eye(4)\n",
        "\n",
        "# Imprimindo o array:\n",
        "print(array)"
      ],
      "metadata": {
        "id": "Z8IT-c9jp2T3",
        "colab": {
          "base_uri": "https://localhost:8080/"
        },
        "outputId": "c40f8c24-3373-40d9-d867-857fac3a2dfa"
      },
      "execution_count": null,
      "outputs": [
        {
          "output_type": "stream",
          "name": "stdout",
          "text": [
            "[[1. 0. 0. 0.]\n",
            " [0. 1. 0. 0.]\n",
            " [0. 0. 1. 0.]\n",
            " [0. 0. 0. 1.]]\n"
          ]
        }
      ]
    },
    {
      "cell_type": "markdown",
      "source": [
        "<p align=\"justify\"> 3 - Utilizando um for loop, multiplique os valores da primeira lista pela segunda lista. Imprima o resultado final. Dica: Você pode precisar da função range() e len() vistas na aula anterior."
      ],
      "metadata": {
        "id": "E7ZLVfdZrKyj"
      }
    },
    {
      "cell_type": "code",
      "source": [
        "# Considerando os dados apresentados:\n",
        "lista1 = [7, 6, 1, 2, 54, 25]\n",
        "lista2 = [1, 2, 3, 4, 5, 6]\n",
        "\n",
        "# Criando uma lista vazia para armazenar os resultados\n",
        "Resultado = []\n",
        "\n",
        "# Usando um for loop para multiplicar os elementos correspondentes\n",
        "for X in range(len(lista1)):\n",
        "    Resultado.append(lista1[X] * lista2[X])\n",
        "\n",
        "# Imprimindo o resultado\n",
        "print(Resultado)"
      ],
      "metadata": {
        "id": "FJegLxCbp2qc",
        "colab": {
          "base_uri": "https://localhost:8080/"
        },
        "outputId": "0fb0c27d-d7a4-4649-b505-1aa6f4fd484d"
      },
      "execution_count": null,
      "outputs": [
        {
          "output_type": "stream",
          "name": "stdout",
          "text": [
            "[7, 12, 3, 8, 270, 150]\n"
          ]
        }
      ]
    },
    {
      "cell_type": "markdown",
      "source": [
        "4 - Transforme as listas 1 e 2 em arrays e multiplique seus valores."
      ],
      "metadata": {
        "id": "fIqHOXYMtEP9"
      }
    },
    {
      "cell_type": "code",
      "source": [
        "# Considerando as listas do exercício 3, temos:\n",
        "lista1 = [7, 6, 1, 2, 54, 25]\n",
        "lista2 = [1, 2, 3, 4, 5, 6]\n",
        "\n",
        "# Transformando as listas para arrays:\n",
        "array1 = np.array(lista1)\n",
        "array2 = np.array(lista2)\n",
        "\n",
        "# Multiplicando os arrays:\n",
        "Resultado = array1 * array2\n",
        "\n",
        "# Imprimindo o resultado: (Ou print(Resultado))\n",
        "for x in Resultado:\n",
        "  print(x)"
      ],
      "metadata": {
        "id": "F_SABdJEp2hC",
        "colab": {
          "base_uri": "https://localhost:8080/"
        },
        "outputId": "836cde22-f061-43b8-f1bd-acd115c7331e"
      },
      "execution_count": null,
      "outputs": [
        {
          "output_type": "stream",
          "name": "stdout",
          "text": [
            "7\n",
            "12\n",
            "3\n",
            "8\n",
            "270\n",
            "150\n"
          ]
        }
      ]
    },
    {
      "cell_type": "markdown",
      "source": [
        "5 - Pegue apenas os valores pares da seguinte lista utilizando um for loop."
      ],
      "metadata": {
        "id": "ptnGI1LCtKTM"
      }
    },
    {
      "cell_type": "code",
      "source": [
        "# Considerando a lista apresentada pelo exercício:\n",
        "lista = list(range(0,100))\n",
        "\n",
        "# Criamos uma lista para os números pares:\n",
        "Números_Pares = []\n",
        "\n",
        "# Selecionando os números pares:\n",
        "for pares in lista:\n",
        "    if pares % 2 == 0:  # Verifica se um número é par (resto é zero)\n",
        "        Números_Pares.append(pares)\n",
        "\n",
        "# Imprimindo apenas os números pares:\n",
        "print(Números_Pares)"
      ],
      "metadata": {
        "id": "4lwY3XEtp3DI",
        "colab": {
          "base_uri": "https://localhost:8080/"
        },
        "outputId": "635b69a0-ea8f-4813-9a9f-4eb98f8919fe"
      },
      "execution_count": null,
      "outputs": [
        {
          "output_type": "stream",
          "name": "stdout",
          "text": [
            "[0, 2, 4, 6, 8, 10, 12, 14, 16, 18, 20, 22, 24, 26, 28, 30, 32, 34, 36, 38, 40, 42, 44, 46, 48, 50, 52, 54, 56, 58, 60, 62, 64, 66, 68, 70, 72, 74, 76, 78, 80, 82, 84, 86, 88, 90, 92, 94, 96, 98]\n"
          ]
        }
      ]
    },
    {
      "cell_type": "markdown",
      "source": [
        "6 - Transforme a lista do exercício 5 em um array e pegue os números pares."
      ],
      "metadata": {
        "id": "PlCYl4Y3MkJf"
      }
    },
    {
      "cell_type": "code",
      "source": [
        "# Com base na lista do exercício 5, temos:\n",
        "lista = list(range(0, 100))\n",
        "\n",
        "# Transformando a lista em um array:\n",
        "array = np.array(lista)\n",
        "\n",
        "# Selecionando os números pares:\n",
        "Números_Pares = array[array % 2 == 0]\n",
        "\n",
        "# Imprimindo os resultados\n",
        "print(Números_Pares)"
      ],
      "metadata": {
        "id": "u1EjEbjwMqdb",
        "colab": {
          "base_uri": "https://localhost:8080/"
        },
        "outputId": "a4604e55-b4f1-40b7-b688-a505dbce85e7"
      },
      "execution_count": null,
      "outputs": [
        {
          "output_type": "stream",
          "name": "stdout",
          "text": [
            "[ 0  2  4  6  8 10 12 14 16 18 20 22 24 26 28 30 32 34 36 38 40 42 44 46\n",
            " 48 50 52 54 56 58 60 62 64 66 68 70 72 74 76 78 80 82 84 86 88 90 92 94\n",
            " 96 98]\n"
          ]
        }
      ]
    },
    {
      "cell_type": "markdown",
      "source": [
        "<p align=\"justify\"> 7 - Abaixo estão duas listas: uma com o nome de candidatos (inventados) e outra com valores <i>dummy</i> (ou binários) que informam se o candidato possui ou não twitter. Usando <i>NumPy</i> arrays, filtre os candidatos que <i>possuem</i> twitter."
      ],
      "metadata": {
        "id": "xlHdQzLnM7tL"
      }
    },
    {
      "cell_type": "code",
      "source": [
        "# Dada a lista de nomes de candidatos:\n",
        "nomes = [\"Alice\", \"Bob\", \"Carlos\", \"David\", \"Emily\", \"Fernanda\", \"Gabriel\", \"Hannah\", \"Isaac\", \"Julia\",\n",
        "         \"Kevin\", \"Larissa\", \"Mateus\", \"Natalia\", \"Oliver\", \"Paula\", \"Quincy\", \"Renata\", \"Samuel\", \"Tatiana\"]\n",
        "\n",
        "# Dada a lista de dummies (possui ou não possui Twitter):\n",
        "twitter = [random.choice([0, 1]) for _ in range(20)]\n",
        "\n",
        "# Para replicabilidade é necessário estabelecer uma seed:\n",
        "# random.seed()\n",
        "\n",
        "# Convertendo as listas para arrays:\n",
        "nomes_array = np.array(nomes)\n",
        "twitter_array = np.array(twitter)\n",
        "\n",
        "# Filtrando os candidatos que possuem Twitter:\n",
        "Twitter_Candidatos = nomes_array[twitter_array == 1]\n",
        "\n",
        "# Exibindo o resultado dos candidatos que possuem Twitter:\n",
        "print(Twitter_Candidatos)"
      ],
      "metadata": {
        "id": "xRinnIJENSzr",
        "colab": {
          "base_uri": "https://localhost:8080/"
        },
        "outputId": "900eb6aa-1461-4317-a1ca-24dbb68afe75"
      },
      "execution_count": null,
      "outputs": [
        {
          "output_type": "stream",
          "name": "stdout",
          "text": [
            "['Carlos' 'Gabriel' 'Hannah' 'Isaac' 'Kevin' 'Larissa' 'Mateus' 'Quincy'\n",
            " 'Tatiana']\n"
          ]
        }
      ]
    },
    {
      "cell_type": "markdown",
      "source": [
        "8 - Escreva um programa NumPy para criar uma matriz 5x5 com valores aleatórios e calcule o exponencial de cada elemento. Confira a [dica](https://numpy.org/doc/stable/reference/routines.math.html#mathematical-functions) antes de iniciar o exercício."
      ],
      "metadata": {
        "id": "E9pYhIcHQhOJ"
      }
    },
    {
      "cell_type": "code",
      "source": [
        "# Definir uma seed para reprodutibilidade:\n",
        "# np.random.seed()\n",
        "\n",
        "# Criando uma matriz 5x5 com valores aleatórios:\n",
        "Matriz = np.random.rand(5, 5)\n",
        "\n",
        "# Calculando o exponencial de cada elemento:\n",
        "Exponencial = np.exp(Matriz)\n",
        "\n",
        "# Imprimir os resultados de ambas as matrizes:\n",
        "print(\"Matriz:\")\n",
        "print(Matriz)\n",
        "print(\"\\nMatriz Exponencial:\")\n",
        "print(Exponencial)"
      ],
      "metadata": {
        "id": "vMFWbiqnQicD",
        "colab": {
          "base_uri": "https://localhost:8080/"
        },
        "outputId": "5d82b1df-0963-4b4e-d6a8-5e3a31c641ac"
      },
      "execution_count": null,
      "outputs": [
        {
          "output_type": "stream",
          "name": "stdout",
          "text": [
            "Matriz:\n",
            "[[0.38478161 0.94502224 0.33429697 0.56230775 0.26103156]\n",
            " [0.08855863 0.49697028 0.60707062 0.86478091 0.26346128]\n",
            " [0.05111165 0.42891318 0.45214545 0.63812406 0.89477448]\n",
            " [0.05477045 0.64762488 0.75783748 0.42938276 0.594739  ]\n",
            " [0.81899635 0.99856824 0.23657304 0.50133778 0.24862937]]\n",
            "\n",
            "Matriz Exponencial:\n",
            "[[1.46929341 2.5728706  1.39695793 1.75471727 1.29826864]\n",
            " [1.09259831 1.64373367 1.83504796 2.3744858  1.3014269 ]\n",
            " [1.05244039 1.5355877  1.57168053 1.89292654 2.44678392]\n",
            " [1.05629812 1.91099659 2.13365716 1.53630895 1.81255781]\n",
            " [2.2682222  2.71439268 1.26690009 1.65092838 1.2822667 ]]\n"
          ]
        }
      ]
    },
    {
      "cell_type": "markdown",
      "source": [
        "9 - Crie uma matriz (array) 3x2 e outra 2x3, sem utilizar o <i>random</i>, e multiplique-as.\n",
        "\n",
        "Dica: Não dá para usar o operador \"*\"."
      ],
      "metadata": {
        "id": "oM4jlef0Rt4q"
      }
    },
    {
      "cell_type": "code",
      "source": [
        "# Criando Matriz A (3x2):\n",
        "Matriz_A = np.array([[1, 2],\n",
        "                     [3, 4],\n",
        "                     [5, 6]])\n",
        "\n",
        "# Criando Matriz B (2X3):\n",
        "Matriz_B = np.array([[7, 8, 9],\n",
        "                     [10, 11, 12]])\n",
        "\n",
        "# Multiplicando as matrizes usando np.dot()\n",
        "Multiplicação = np.dot(Matriz_A, Matriz_B)\n",
        "\n",
        "# Imprimindo os resultados da multiplicação das matrizes A e B:\n",
        "print(Multiplicação)"
      ],
      "metadata": {
        "id": "9S5Qoz3kR6gK",
        "colab": {
          "base_uri": "https://localhost:8080/"
        },
        "outputId": "0f7a9091-d931-4207-aeab-459d92692a4d"
      },
      "execution_count": null,
      "outputs": [
        {
          "output_type": "stream",
          "name": "stdout",
          "text": [
            "[[ 27  30  33]\n",
            " [ 61  68  75]\n",
            " [ 95 106 117]]\n"
          ]
        }
      ]
    },
    {
      "cell_type": "markdown",
      "source": [
        "10 - Transponha a segunda matriz do exercício 9 e refaça a operação proposta."
      ],
      "metadata": {
        "id": "McY-qLTdTJ-V"
      }
    },
    {
      "cell_type": "code",
      "source": [
        "# Considerando as matrizes do exercício anterior, temos:\n",
        "Matriz_A = np.array([[1, 2],\n",
        "                     [3, 4],\n",
        "                     [5, 6]])\n",
        "\n",
        "Matriz_B = np.array([[7, 8, 9],\n",
        "                     [10, 11, 12]])\n",
        "\n",
        "# Para transpor a Matriz_B, devemos:\n",
        "Matriz_B_Transposta = np.array(Matriz_B.T)\n",
        "print(Matriz_B_Transposta)\n",
        "\n",
        "## Não é possível realizar a multiplicação das matrizes A (3x2) e B.T (3x2). Para ser possível realizar a multiplicação, o número de colunas da primeira matriz deve ser igual ao número de linhas da segunda matriz.\n"
      ],
      "metadata": {
        "id": "GvDigZ_tTNR9",
        "colab": {
          "base_uri": "https://localhost:8080/"
        },
        "outputId": "6db4b207-2770-4257-a85a-3cbd9d24cf33"
      },
      "execution_count": null,
      "outputs": [
        {
          "output_type": "stream",
          "name": "stdout",
          "text": [
            "[[ 7 10]\n",
            " [ 8 11]\n",
            " [ 9 12]]\n"
          ]
        }
      ]
    },
    {
      "cell_type": "markdown",
      "source": [
        "11 - Imprima o número 50 do seguinte array."
      ],
      "metadata": {
        "id": "KY4glxO8Ua8P"
      }
    },
    {
      "cell_type": "code",
      "source": [
        "# Dado o array proposto pelo exercício, temos:\n",
        "arr = np.array([[10, 20, 30, 40], [50, 60, 70, 80]])\n",
        "\n",
        "# Para imprimir o número 50, devemos acessá-lo:\n",
        "Elemento = arr[1, 0] # 1 (segunda linha) e 0 (primeira coluna)\n",
        "\n",
        "# Imprimindo o elemento:\n",
        "print(Elemento)"
      ],
      "metadata": {
        "id": "mjMI7vx0Uc3I",
        "colab": {
          "base_uri": "https://localhost:8080/"
        },
        "outputId": "ecff3074-ea2a-4323-cbde-83e5be68c95f"
      },
      "execution_count": null,
      "outputs": [
        {
          "output_type": "stream",
          "name": "stdout",
          "text": [
            "50\n"
          ]
        }
      ]
    },
    {
      "cell_type": "markdown",
      "source": [
        "12 - Crie uma matriz 3x3 de números e acesse o elemento da segunda linha e terceira coluna."
      ],
      "metadata": {
        "id": "K2p5687bU32n"
      }
    },
    {
      "cell_type": "code",
      "source": [
        "# Considerando uma matriz 3x3 como exemplo:\n",
        "array = np.array([[1, 2, 3], [4, 5, 6], [7, 8, 9]])\n",
        "\n",
        "# Para acessar o elemento da segunda linha e terceira coluna, devemos:\n",
        "Elemento = array[1, 2] # 1 (segunda linha) e 2 (terceira coluna)\n",
        "\n",
        "# Imprimindo o elemento:\n",
        "print(\"Matriz (3x3):\")\n",
        "print(array)\n",
        "print(\"\\nElemento da segunda linha e terceira coluna: \")\n",
        "print(Elemento)"
      ],
      "metadata": {
        "id": "b6C07nkoU5K0",
        "colab": {
          "base_uri": "https://localhost:8080/"
        },
        "outputId": "16302618-0597-4607-9b5f-b047447ac5ac"
      },
      "execution_count": null,
      "outputs": [
        {
          "output_type": "stream",
          "name": "stdout",
          "text": [
            "Matriz (3x3):\n",
            "[[1 2 3]\n",
            " [4 5 6]\n",
            " [7 8 9]]\n",
            "\n",
            "Elemento da segunda linha e terceira coluna: \n",
            "6\n"
          ]
        }
      ]
    },
    {
      "cell_type": "markdown",
      "source": [
        "13 - Crie uma matriz 4x4 de números e use fatiamento para obter uma submatriz 2x2 da parte superior esquerda."
      ],
      "metadata": {
        "id": "XgIcm4deVecc"
      }
    },
    {
      "cell_type": "code",
      "source": [
        "# Criando uma matriz 4x4 como exemplo para realizar o exercício:\n",
        "Matriz = np.array([\n",
        "    [1, 2, 3, 4],\n",
        "    [5, 6, 7, 8],\n",
        "    [9, 10, 11, 12],\n",
        "    [13, 14, 15, 16]])\n",
        "\n",
        "# Usando fatiamento para obter a matriz 2x2 da parte superior esquerda:\n",
        "Matriz_2 = Matriz[:2, :2] # Selecionando elementos do índice 0 ao 2\n",
        "\n",
        "# Imprimindo a matriz 2x2:\n",
        "print(Matriz_2)"
      ],
      "metadata": {
        "id": "m4sHEx-FVhU1",
        "colab": {
          "base_uri": "https://localhost:8080/"
        },
        "outputId": "fd476195-c38c-4a5e-9343-90bca1e6ebec"
      },
      "execution_count": null,
      "outputs": [
        {
          "output_type": "stream",
          "name": "stdout",
          "text": [
            "[[1 2]\n",
            " [5 6]]\n"
          ]
        }
      ]
    },
    {
      "cell_type": "markdown",
      "source": [
        "<p align=\"justify\"> 14 - Crie uma função que recebe um array de strings que contém os usuários de twitter de deputados federais, remova o prefixo \"@\" e deixe tudo minúsculo. Depois, a aplique na <i>lista_twitters</i>.\n",
        "\n",
        "Confira a [dica](https://numpy.org/doc/stable/reference/routines.char.html)."
      ],
      "metadata": {
        "id": "oOD-V93QjVTE"
      }
    },
    {
      "cell_type": "code",
      "source": [
        "# Dada a lista de nomes de Usuários no Twitter, temos:\n",
        "lista_twitters = nomes_com_arroba = [\"@Ana\", \"@Pedro\", \"@Isabel\", \"@João\",\n",
        "                                     \"@Mariana\", \"@Rafael\", \"@Beatriz\", \"@Lucas\",\n",
        "                                     \"@Carolina\", \"@Gustavo\", \"@Lívia\", \"@André\",\n",
        "                                     \"@Júlia\", \"@Matheus\", \"@Laura\", \"@Gabriel\",\n",
        "                                     \"@Amanda\", \"@Daniel\", \"@Clara\", \"@Felipe\"]\n",
        "\n",
        "# Definindo a função para recber os nomes de usuários do Twitter:\n",
        "def Usuários_Twitter(Lista):\n",
        "# Removendo o '@' e tornando o texto minúsculo:\n",
        "    return [Usuário[1:].lower() for Usuário in Lista]\n",
        "\n",
        "# Aplicando a função na lista dos usuários do Twitter:\n",
        "Deputados_Twitter = Usuários_Twitter(lista_twitters)\n",
        "\n",
        "# Exibindo a lista seguindo as recomendações:\n",
        "print(Deputados_Twitter)"
      ],
      "metadata": {
        "id": "WxXw3wI6jZXs",
        "colab": {
          "base_uri": "https://localhost:8080/"
        },
        "outputId": "82fa0b82-2b47-4132-86e8-e700e7f0b854"
      },
      "execution_count": null,
      "outputs": [
        {
          "output_type": "stream",
          "name": "stdout",
          "text": [
            "['ana', 'pedro', 'isabel', 'joão', 'mariana', 'rafael', 'beatriz', 'lucas', 'carolina', 'gustavo', 'lívia', 'andré', 'júlia', 'matheus', 'laura', 'gabriel', 'amanda', 'daniel', 'clara', 'felipe']\n"
          ]
        }
      ]
    },
    {
      "cell_type": "markdown",
      "source": [
        "## Desafio - Aprimore suas Técnicas de Seleção"
      ],
      "metadata": {
        "id": "_r3WbMPaRuXt"
      }
    },
    {
      "cell_type": "markdown",
      "source": [
        "<p align=\"justify\"> Agora que você já colocou em prática sua criatividade e está familiarizado com as etapas de seleção do <i>corpus</i> utilizado na pesquisa que orienta a nossa disciplina, vamos aprimorar o código desenvolvido no desafio do Tutorial 02 e avançar na discussão acerca das dificuldades inerentes a construção de um <i>corpus</i> de uma pesquisa em PLN."
      ],
      "metadata": {
        "id": "GFjzZfRyPNhN"
      }
    },
    {
      "cell_type": "markdown",
      "source": [
        "#### Recapitulando"
      ],
      "metadata": {
        "id": "jEf6UL0fR2Fi"
      }
    },
    {
      "cell_type": "markdown",
      "source": [
        "<p align=\"justify\"> No desafio anterior, solicitamos que você construísse uma estrutura de classificação destinada a determinar quais tweets seriam incluídos ou excluídos do <i>corpus</i> da pesquisa. Isso deveria ser feito com base nas informações fornecidas pelo <b>Vaccine Codebook of Political Elites 2023</b>. O objetivo principal era que você identificasse com precisão as várias etapas do processo de seleção dos tweets destinados a compor o <i>corpus</i>, começando pela análise da lista de candidatos à prefeito nas capitais brasileiras e seguindo até a escolha dos tweets que, conforme os critérios definidos no documento, seriam submetidos à codificação humana.\n",
        "\n",
        "<p align=\"justify\"> Tratava-se de um exercício fundamentalmente criativo, o que lhe conferia uma dose de liberdade para agir. Desde que o seu código conseguisse diferenciar de forma nítida quais candidatos ou tweets seriam descartados ou aceitos a cada etapa do processo, não havia margem para erro. Era viável presumir a existência de uma base de dados consolidada contendo essas informações. Você também tinha a liberdade para criar uma base de dados fictícia para trabalhar e até mesmo supor a existência de variáveis que, pelo menos na atual conjuntura, não são levadas em consideração pelos órgãos que divulgam essas informações, como o TSE e até mesmo o próprio Twitter.\n",
        "\n",
        "\n",
        "<p align=\"justify\"> Poréeeem, como tudo o que é bom tem seu fim, chegou a hora de trazer um pouco de realidade para a equação."
      ],
      "metadata": {
        "id": "UxGoEOUpSBrt"
      }
    },
    {
      "cell_type": "markdown",
      "source": [
        "#### Uma Dose de Realidade"
      ],
      "metadata": {
        "id": "tfsEK_8MhfZc"
      }
    },
    {
      "cell_type": "markdown",
      "source": [
        "<p align=\"justify\"> Não pretendo te desanimar, contudo, acredito que seja essencial trazer à discussão um ponto relevante. Essa base de dados excepcional, contendo todas as informações necessárias, simplesmente NÃO existe e é improvável que venha a existir. Sempre haverá a necessidade de realizar ajustes, organizar ou fazer modificações mínimas. Mesmo quando parece estar em condições ideais (o que RARAMENTE ocorre), ainda assim, será necessário investir tempo para adaptar os dados às exigências tanto suas quanto da pesquisa em si.\n",
        "\n",
        "<p align=\"justify\"> No contexto de nossa pesquisa, precisamos recorrer a três fontes de informação distintas: o TSE, o Google e o Twitter. Permita-me explicar.\n",
        "\n",
        "<p align=\"justify\"> Recorremos ao TSE, por razões óbvias, para cruzar as informações demográficas dos candidatos à prefeito com os votos que obtiveram em seus respectivos distritos eleitorais. Uma vez concluído esse processo, selecionamos apenas aqueles cujas candidaturas foram aprovadas pelo TSE <b>e</b> que competiram em uma das capitais. Somente então prosseguimos para identificar aqueles que possuíam uma conta no Twitter. Sim, essa informação não está disponível nas bases de dados do TSE. Pelo menos não de forma consistente. Observem que somente recentemente essa informação passou a ser coletada e divulgada pelos diretórios partidários. Além disso, não é obrigatório que os candidatos tenham e façam uso das redes sociais nas campanhas eleitorais, o que torna esse dado pouco confiável e de difícil utilização, pelo menos no momento atual.\n",
        "\n",
        "<p align=\"justify\"> Em razão disso, tornou-se necessário investigar individualmente os 300 candidatos cujas candidaturas foram aprovadas, utilizando o Google para verificar se possuíam contas no Twitter ou não. Após a conclusão desse processo e com os perfis de usuário dos candidatos em nossa posse, avançamos para a coleta de todos os tweets publicados em 2020 pelos candidatos à prefeito que possuíam contas ativas na plataforma Twitter.\n",
        "\n",
        "<p align=\"justify\"> Uma vez concluída essa etapa, procedemos então à filtragem dos tweets coletados, selecionando exclusivamente aqueles que faziam menção a um ou mais dos termos e palavras-chave previamente estabelecidos por nossa equipe.\n",
        "\n",
        "<p align=\"justify\"> Ufa, acabou! Finalmente temos um <i>corpus</i> pronto para ser utilizado."
      ],
      "metadata": {
        "id": "S2rgCIMDhsoV"
      }
    },
    {
      "cell_type": "markdown",
      "source": [
        "#### A Tarefa"
      ],
      "metadata": {
        "id": "qP25YZ_krl_N"
      }
    },
    {
      "cell_type": "markdown",
      "source": [
        "<p align=\"justify\"> Com base no conteúdo abordado nas seções anteriores, especialmente na consideração dos desafios envolvidos na construção de um <i>corpus</i> robusto e coerente, e aproveitando os conhecimentos em Python que você acumulou até agora, chegou o momento de elevar a qualidade e aplicabilidade do seu classificador.\n",
        "\n",
        "<p align=\"justify\"> Dessa vez, iremos avaliar a eficácia do seu código em dados reais. Para isso, selecione 10 candidatos da amostra fornecida no <b>Vaccine Codebook of Political Elites 2023</b>. Assegure-se de escolher candidatos provenientes de diferentes capitais, e garanta que nem todos possuam uma conta no Twitter. Após essa seleção, crie mais 10 candidatos entre prefeitos e vereadores, de cidades que não foram abordadas na pesquisa. Podem ser candidatos reais ou fictícios, você escolhe.\n",
        "\n",
        "<p align=\"justify\"> Por último, examine a relação de termos e palavras-chave estabelecida pela equipe e associe \"tweets\" aos candidatos que possuem perfil no Twitter, levando em consideração a presença ou ausência desses termos. Dado que ainda não abordamos o uso de <i>data frames</i>, vamos proceder como se estivéssemos analisando apenas os tweets do dia 27/09/2020, data a partir da qual foi permitida a propaganda eleitoral nas eleições daquele ano.\n",
        "\n",
        "<p align=\"justify\"> Com base nessas diretrizes, você deverá criar nove listas, seguindo a estrutura abaixo, e então consolidá-las em um dicionário utilizando a função que você desenvolveu no exercício 05.\n",
        "\n",
        "nome_candidato = ['Joana', 'José']<br>\n",
        "sigla_partido =['PT', 'PSDB']\n",
        "sigla_uf = ['AC', 'SP']<br>\n",
        "nome_municipio = ['Rio Branco', 'São Paulo']<br>\n",
        "cargo = ['Prefeito', 'Vereador']<br>\n",
        "situacao_candidatura = ['Deferido', 'Indeferido']<br>\n",
        "conta_twitter = [1, 1]<br>\n",
        "publicou_2020 = [1, 1]<br>\n",
        "tweet_27092020 = ['blablavacinablabla', 'blablablabla']<br>\n",
        "\n",
        "<p align=\"justify\"> Com o dicionário pronto, elabore uma função para o classificador concebido no Tutorial 02 e empregue o dicionário a fim de verificar sua eficácia. Essa função deve incorporar ao dicionário criado uma lista de <i>dummies</i> denominada 'termo_vacina', indicando se o tweet incluía ou não um dos termos designados pela equipe. Ao final, a função deve imprimir apenas as informações dos candidatos escolhidos para integrar o <i>corpus</i>. Não se esqueça de ordenar a lista de candidatos.\n",
        "\n",
        "[**Link do Codebook**](https://github.com/PedroSchmalz/covid19-tweets-brazilian-mayoral-candidates/blob/main/Codebook_v1.0.pdf)"
      ],
      "metadata": {
        "id": "MxO_yor0rr3R"
      }
    },
    {
      "cell_type": "code",
      "source": [
        "## Meu classificador\n",
        "\n",
        "## Anotações iniciais para construção das listas\n",
        "\n",
        "# Seleção de 10 candidatos da amostra fornecida no Vaccine Codebook of Political Elites 2023\n",
        "# 1 - Tião Bocalom, Rio Branco, AC, PP (tem tt)\n",
        "# 2 - Gilberto Vasconcelos da Silva, Manaus, AM, PSTU (não tem tt)\n",
        "# 3 - Bruno Reis, Salvador, BA, DEM (tem tt)\n",
        "# 4 - Raphael Góes Furtado, Vitória, ES, PSTU (não tem tt)\n",
        "# 5 - Neto Evangelista, São Luís, MA, UNIÃO (tem tt)\n",
        "# 6 - Cristiane Pinheiro Duarte, Campo Grande, MS, PSOL (não tem tt)\n",
        "# 7 - Vavá Martins, Belém, PA, REPUBLICANOS (tem tt)\n",
        "# 8 - Thiago de Oliveira Santos, Recife, PE, UP (não tem tt)\n",
        "# 9 - Camila Lanes, Curitiba, PR, PC do B (tem tt)\n",
        "# 10 - Fernando Carvalho de Freitas, Natal, RN, PC do B (não tem tt)\n",
        "\n",
        "#Criação de 10 candidatos entre prefeitos e vereadores, de cidades que não foram abordadas na pesquisa (reais)\n",
        "# 1 - Marcos Tonho, Santanda de Parnaíba, SP, PSDB, prefeito (não tem tt)\n",
        "# 2 - Caio Cunha, Mogi das Cruzes, SP, PODE, prefeito (não tem tt)\n",
        "# 3 - Leandro Dantas (Leandrinho), Suzano, SP, PL, vereador (não tem tt)\n",
        "# 4 - Reinaldo Campos, Barueri, SP, PL, vereador (tem tt)\n",
        "# 5 - Rubens Bomtempo, Petrópolis, RJ, PSB, prefeito (não tem tt)\n",
        "# 6 - Adriano Silva, Joinville, SC, NOVO, prefeito (não tem tt)\n",
        "# 7 - Felipe Augusto, São Sebastião, SP, PSDB, prefeito (tem tt)\n",
        "# 8 - Fabiano Horta, Maricá, RJ, PT, prefeito (tem tt)\n",
        "# 9 - Duda Hidalgo, Ribeirão Preto, SP, PT, vereadora (tem tt)\n",
        "# 10 - Clésio Salvaro, Críciuma, SC, PSD, prefeito (tem tt)"
      ],
      "metadata": {
        "id": "H_ha1Itr6uWP"
      },
      "execution_count": null,
      "outputs": []
    },
    {
      "cell_type": "code",
      "source": [
        "## Criação das listas\n",
        "\n",
        "nome_candidato = ['Tião Bocalom', 'Gilberto Vasconcelos da Silva', 'Bruno Reis', 'Raphael Góes Furtado', 'Neto Evangelista', 'Cristiane Pinheiro Duarte', 'Vavá Martins', 'Thiagode Oliveira Santos', 'Camila Lanes', 'Fernando Carvalho de Freitas','Marcos Tonho', 'Caio Cunha', 'Leandro Dantas (Leandrinho)', 'Reinaldo Campos', 'Rubens Bomtempo', 'Adriano Silva', 'Felipe Augusto', 'Fabiano Horta', 'Duda Hidalgo', 'Clésio Salvaro']\n",
        "sigla_partido = ['PP', 'PSTU', 'DEM', 'PSTU', 'UNIÃO', 'PSOL', 'REPUBLICANOS', 'UP', 'PC do B', 'PC do B', 'PSDB', 'PODE', 'PL', 'PL', 'PSB', 'NOVO', 'PSDB', 'PT', 'PT', 'PSD']\n",
        "sigla_uf = ['AC', 'AM', 'BA', 'ES', 'MA', 'MS', 'PA', 'PE', 'PR', 'RN', 'SP', 'SP', 'SP', 'SP', 'RJ', 'SC', 'SP', 'RJ', 'SP', 'SC']\n",
        "nome_municipio = ['Rio Branco', 'Manaus', 'Salvador', 'Vitória', 'São Luís', 'Campo Grande', 'Belém', 'Recife', 'Curitiba', 'Natal', 'Santanda de Parnaíba', 'Mogi das Cruzes', 'Suzano', 'Barueri', 'Petrópolis', 'Joinville', 'São Sebastião', 'Maricá', 'Ribeirão Preto', 'Críciuma']\n",
        "cargo = ['Prefeito', 'Prefeito', 'Prefeito', 'Prefeito', 'Prefeito', 'Prefeito', 'Prefeito', 'Prefeito', 'Prefeito', 'Prefeito', 'Prefeito', 'Prefeito', 'Vereador', 'Vereador', 'Prefeito', 'Prefeito', 'Prefeito', 'Prefeito', 'Vereador', 'Prefeito']\n",
        "situacao_candidatura = ['Deferido', 'Deferido', 'Deferido', 'Deferido', 'Deferido', 'Deferido', 'Deferido', 'Deferido', 'Deferido', 'Deferido', 'Deferido', 'Deferido', 'Deferido', 'Deferido', 'Deferido', 'Deferido', 'Deferido', 'Deferido', 'Deferido', 'Deferido']\n",
        "conta_twitter = [1, 0, 1, 0, 1, 0, 1, 0, 1, 0, 0, 0, 0, 1, 0, 0, 1, 1, 1, 1]\n",
        "publicou_2020 = [1, 0, 1, 0, 1, 0, 1, 0, 1, 0, 0, 0, 0, 1, 0, 0, 1, 1, 1, 1]\n",
        "#como o twitter encontra-se desativado no momento, não temos como checar os dados para elaborar a lista \"publicou_2020\". Assumiremos que todos os candidatos da amostra do Code Book que tinham conta no twitter publicaram em 2020, e que os candidatos escolhidos por nós que tinham twitter também publicaram em 2020.\n",
        "tweet_27092020 = ['psiupsiupsiuimunisação', '', 'xxxVachinaxxx', '', 'kkkkjacaré', '', 'euquerotomarvassinaamoamoamo', '', 'vivabutantan', '', '', '', '', 'carnedeporco', '', '', 'cadarçocadarçoblah', 'tectectec', 'digitadigitadigita', 'pythopythonpython']\n",
        "\n",
        "## Consolidando as listas em um dicionário utilizando a função desenvolvida no exercício 05\n",
        "def juntar_dados(lista_1, lista_2, lista_3, lista_4, lista_5, lista_6, lista_7, lista_8, lista_9):\n",
        "    dicionario = {}\n",
        "    for item in zip(lista_1, lista_2, lista_3, lista_4, lista_5, lista_6, lista_7, lista_8, lista_9):\n",
        "        dicionario[item[0]] = {\n",
        "            'sigla_partido': item[1],\n",
        "            'sigla_uf': item[2],\n",
        "            'nome_municipio': item[3],\n",
        "            'cargo': item[4],\n",
        "            'situacao_candidatura': item[5],\n",
        "            'conta_twitter': item[6],\n",
        "            'publicou_2020': item[7],\n",
        "            'tweet_27092020': item[8]\n",
        "        }\n",
        "    return dicionario\n",
        "\n",
        "# Aplicando a função\n",
        "dicionario = juntar_dados (nome_candidato, sigla_partido, sigla_uf, nome_municipio, cargo, situacao_candidatura, conta_twitter, publicou_2020, tweet_27092020)\n",
        "print(dicionario)"
      ],
      "metadata": {
        "colab": {
          "base_uri": "https://localhost:8080/"
        },
        "id": "lDG4Vr67VI5L",
        "outputId": "9b4a2f91-2f31-4f79-f80d-17ab7ee83695"
      },
      "execution_count": null,
      "outputs": [
        {
          "output_type": "stream",
          "name": "stdout",
          "text": [
            "{'Tião Bocalom': {'sigla_partido': 'PP', 'sigla_uf': 'AC', 'nome_municipio': 'Rio Branco', 'cargo': 'Prefeito', 'situacao_candidatura': 'Deferido', 'conta_twitter': 1, 'publicou_2020': 1, 'tweet_27092020': 'psiupsiupsiuimunisação'}, 'Gilberto Vasconcelos da Silva': {'sigla_partido': 'PSTU', 'sigla_uf': 'AM', 'nome_municipio': 'Manaus', 'cargo': 'Prefeito', 'situacao_candidatura': 'Deferido', 'conta_twitter': 0, 'publicou_2020': 0, 'tweet_27092020': ''}, 'Bruno Reis': {'sigla_partido': 'DEM', 'sigla_uf': 'BA', 'nome_municipio': 'Salvador', 'cargo': 'Prefeito', 'situacao_candidatura': 'Deferido', 'conta_twitter': 1, 'publicou_2020': 1, 'tweet_27092020': 'xxxVachinaxxx'}, 'Raphael Góes Furtado': {'sigla_partido': 'PSTU', 'sigla_uf': 'ES', 'nome_municipio': 'Vitória', 'cargo': 'Prefeito', 'situacao_candidatura': 'Deferido', 'conta_twitter': 0, 'publicou_2020': 0, 'tweet_27092020': ''}, 'Neto Evangelista': {'sigla_partido': 'UNIÃO', 'sigla_uf': 'MA', 'nome_municipio': 'São Luís', 'cargo': 'Prefeito', 'situacao_candidatura': 'Deferido', 'conta_twitter': 1, 'publicou_2020': 1, 'tweet_27092020': 'kkkkjacaré'}, 'Cristiane Pinheiro Duarte': {'sigla_partido': 'PSOL', 'sigla_uf': 'MS', 'nome_municipio': 'Campo Grande', 'cargo': 'Prefeito', 'situacao_candidatura': 'Deferido', 'conta_twitter': 0, 'publicou_2020': 0, 'tweet_27092020': ''}, 'Vavá Martins': {'sigla_partido': 'REPUBLICANOS', 'sigla_uf': 'PA', 'nome_municipio': 'Belém', 'cargo': 'Prefeito', 'situacao_candidatura': 'Deferido', 'conta_twitter': 1, 'publicou_2020': 1, 'tweet_27092020': 'euquerotomarvassinaamoamoamo'}, 'Thiagode Oliveira Santos': {'sigla_partido': 'UP', 'sigla_uf': 'PE', 'nome_municipio': 'Recife', 'cargo': 'Prefeito', 'situacao_candidatura': 'Deferido', 'conta_twitter': 0, 'publicou_2020': 0, 'tweet_27092020': ''}, 'Camila Lanes': {'sigla_partido': 'PC do B', 'sigla_uf': 'PR', 'nome_municipio': 'Curitiba', 'cargo': 'Prefeito', 'situacao_candidatura': 'Deferido', 'conta_twitter': 1, 'publicou_2020': 1, 'tweet_27092020': 'vivabutantan'}, 'Fernando Carvalho de Freitas': {'sigla_partido': 'PC do B', 'sigla_uf': 'RN', 'nome_municipio': 'Natal', 'cargo': 'Prefeito', 'situacao_candidatura': 'Deferido', 'conta_twitter': 0, 'publicou_2020': 0, 'tweet_27092020': ''}, 'Marcos Tonho': {'sigla_partido': 'PSDB', 'sigla_uf': 'SP', 'nome_municipio': 'Santanda de Parnaíba', 'cargo': 'Prefeito', 'situacao_candidatura': 'Deferido', 'conta_twitter': 0, 'publicou_2020': 0, 'tweet_27092020': ''}, 'Caio Cunha': {'sigla_partido': 'PODE', 'sigla_uf': 'SP', 'nome_municipio': 'Mogi das Cruzes', 'cargo': 'Prefeito', 'situacao_candidatura': 'Deferido', 'conta_twitter': 0, 'publicou_2020': 0, 'tweet_27092020': ''}, 'Leandro Dantas (Leandrinho)': {'sigla_partido': 'PL', 'sigla_uf': 'SP', 'nome_municipio': 'Suzano', 'cargo': 'Vereador', 'situacao_candidatura': 'Deferido', 'conta_twitter': 0, 'publicou_2020': 0, 'tweet_27092020': ''}, 'Reinaldo Campos': {'sigla_partido': 'PL', 'sigla_uf': 'SP', 'nome_municipio': 'Barueri', 'cargo': 'Vereador', 'situacao_candidatura': 'Deferido', 'conta_twitter': 1, 'publicou_2020': 1, 'tweet_27092020': 'carnedeporco'}, 'Rubens Bomtempo': {'sigla_partido': 'PSB', 'sigla_uf': 'RJ', 'nome_municipio': 'Petrópolis', 'cargo': 'Prefeito', 'situacao_candidatura': 'Deferido', 'conta_twitter': 0, 'publicou_2020': 0, 'tweet_27092020': ''}, 'Adriano Silva': {'sigla_partido': 'NOVO', 'sigla_uf': 'SC', 'nome_municipio': 'Joinville', 'cargo': 'Prefeito', 'situacao_candidatura': 'Deferido', 'conta_twitter': 0, 'publicou_2020': 0, 'tweet_27092020': ''}, 'Felipe Augusto': {'sigla_partido': 'PSDB', 'sigla_uf': 'SP', 'nome_municipio': 'São Sebastião', 'cargo': 'Prefeito', 'situacao_candidatura': 'Deferido', 'conta_twitter': 1, 'publicou_2020': 1, 'tweet_27092020': 'cadarçocadarçoblah'}, 'Fabiano Horta': {'sigla_partido': 'PT', 'sigla_uf': 'RJ', 'nome_municipio': 'Maricá', 'cargo': 'Prefeito', 'situacao_candidatura': 'Deferido', 'conta_twitter': 1, 'publicou_2020': 1, 'tweet_27092020': 'tectectec'}, 'Duda Hidalgo': {'sigla_partido': 'PT', 'sigla_uf': 'SP', 'nome_municipio': 'Ribeirão Preto', 'cargo': 'Vereador', 'situacao_candidatura': 'Deferido', 'conta_twitter': 1, 'publicou_2020': 1, 'tweet_27092020': 'digitadigitadigita'}, 'Clésio Salvaro': {'sigla_partido': 'PSD', 'sigla_uf': 'SC', 'nome_municipio': 'Críciuma', 'cargo': 'Prefeito', 'situacao_candidatura': 'Deferido', 'conta_twitter': 1, 'publicou_2020': 1, 'tweet_27092020': 'pythopythonpython'}}\n"
          ]
        }
      ]
    },
    {
      "cell_type": "code",
      "source": [
        "## Criando uma função para o código do tutorial 02\n",
        "\n",
        "# Definindo as funções do classificador (já elaboradas no tutorial 02) e aplicando o dicionário\n",
        "\n",
        "#Checando se o candidato tem twitter\n",
        "def check_twitter_account(candidato_info):\n",
        "    return candidato_info['conta_twitter'] == 1\n",
        "\n",
        "#checando se o candidato twittou em 2020\n",
        "def check_activity(candidato_info):\n",
        "    return candidato_info['conta_twitter'] == 1 and candidato_info['publicou_2020'] == 1\n",
        "\n",
        "#checando se o candidato twittoou sobre vacina/vacinação\n",
        "def check_vaccine_posts(candidato_info):\n",
        "    return any(candidato_info.get(f'termo_{termo.lower()}', 0) == 1 for termo in termo_vacina)\n",
        "\n",
        "# Definindo uma função para filtrar os candidatos que entrarão no corpus\n",
        "def filtrar_candidatos(dicionario):\n",
        "    candidatos_filtrados = []\n",
        "\n",
        "    for nome, info in dicionario.items():\n",
        "        if check_twitter_account(info) and check_activity(info) and check_vaccine_posts(info):\n",
        "            candidatos_filtrados.append({\n",
        "                'Nome': nome,\n",
        "                'Partido': info['sigla_partido'],\n",
        "                'UF': info['sigla_uf'],\n",
        "                'Município': info['nome_municipio'],\n",
        "                'Cargo': info['cargo'],\n",
        "                'Situação da candidatura': info['situacao_candidatura'],\n",
        "                'Conta no Twitter': 'Sim' if info['conta_twitter'] else 'Não',\n",
        "                'Publicou em 2020': 'Sim' if info['publicou_2020'] else 'Não',\n",
        "                'Tweet': info['tweet_27092020']\n",
        "            })\n",
        "\n",
        "# Ordenando a lista de candidatos em ordem alfabética\n",
        "    candidatos_filtrados.sort(key=lambda x: x['Nome'])\n",
        "\n",
        "    print(\"Candidatos escolhidos para integrar o corpus:\")\n",
        "    for candidato in candidatos_filtrados:\n",
        "        print(f\"Nome: {candidato['Nome']}\")\n",
        "        print(f\"Partido: {candidato['Partido']}\")\n",
        "        print(f\"UF: {candidato['UF']}\")\n",
        "        print(f\"Município: {candidato['Município']}\")\n",
        "        print(f\"Cargo: {candidato['Cargo']}\")\n",
        "        print(f\"Situação da candidatura: {candidato['Situação da candidatura']}\")\n",
        "        print(f\"Conta no Twitter: {candidato['Conta no Twitter']}\")\n",
        "        print(f\"Publicou em 2020: {candidato['Publicou em 2020']}\")\n",
        "        print(f\"Tweet: {candidato['Tweet']}\")\n",
        "        print(\"-\" * 40)\n",
        "\n",
        "# Definindo as variáveis dummies (termos sobre vacinação que estavam no codebook e foram selecionados para compor os tweets fictícios) e adicionando ao dicionário\n",
        "termo_vacina = ['imunisação', 'vachina', 'jacaré', 'vassina', 'butantan']\n",
        "\n",
        "def adicionar_dummies(dicionario, termos):\n",
        "    for candidato, info in dicionario.items():\n",
        "        for termo in termos:\n",
        "            info[f'termo_{termo.lower()}'] = 1 if termo.lower() in info['tweet_27092020'].lower() else 0\n",
        "    return dicionario\n",
        "\n",
        "resultado = adicionar_dummies(resultado, termo_vacina)\n",
        "\n",
        "# Aplicando a função de filtrar candidatos\n",
        "filtrar_candidatos(resultado)"
      ],
      "metadata": {
        "id": "CrjE8NqoBvT_",
        "colab": {
          "base_uri": "https://localhost:8080/"
        },
        "outputId": "56cfc944-977e-4fd9-abea-14682a2f052f"
      },
      "execution_count": null,
      "outputs": [
        {
          "output_type": "stream",
          "name": "stdout",
          "text": [
            "Candidatos escolhidos para integrar o corpus:\n",
            "Nome: Bruno Reis\n",
            "Partido: DEM\n",
            "UF: BA\n",
            "Município: Salvador\n",
            "Cargo: Prefeito\n",
            "Situação da candidatura: Deferido\n",
            "Conta no Twitter: Sim\n",
            "Publicou em 2020: Sim\n",
            "Tweet: xxxVachinaxxx\n",
            "----------------------------------------\n",
            "Nome: Camila Lanes\n",
            "Partido: PC do B\n",
            "UF: PR\n",
            "Município: Curitiba\n",
            "Cargo: Prefeito\n",
            "Situação da candidatura: Deferido\n",
            "Conta no Twitter: Sim\n",
            "Publicou em 2020: Sim\n",
            "Tweet: vivabutantan\n",
            "----------------------------------------\n",
            "Nome: Neto Evangelista\n",
            "Partido: UNIÃO\n",
            "UF: MA\n",
            "Município: São Luís\n",
            "Cargo: Prefeito\n",
            "Situação da candidatura: Deferido\n",
            "Conta no Twitter: Sim\n",
            "Publicou em 2020: Sim\n",
            "Tweet: kkkkjacaré\n",
            "----------------------------------------\n",
            "Nome: Tião Bocalom\n",
            "Partido: PP\n",
            "UF: AC\n",
            "Município: Rio Branco\n",
            "Cargo: Prefeito\n",
            "Situação da candidatura: Deferido\n",
            "Conta no Twitter: Sim\n",
            "Publicou em 2020: Sim\n",
            "Tweet: psiupsiupsiuimunisação\n",
            "----------------------------------------\n",
            "Nome: Vavá Martins\n",
            "Partido: REPUBLICANOS\n",
            "UF: PA\n",
            "Município: Belém\n",
            "Cargo: Prefeito\n",
            "Situação da candidatura: Deferido\n",
            "Conta no Twitter: Sim\n",
            "Publicou em 2020: Sim\n",
            "Tweet: euquerotomarvassinaamoamoamo\n",
            "----------------------------------------\n"
          ]
        }
      ]
    }
  ]
}